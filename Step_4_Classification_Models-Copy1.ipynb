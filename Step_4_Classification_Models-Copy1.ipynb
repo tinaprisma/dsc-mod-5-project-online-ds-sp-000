{
 "cells": [
  {
   "cell_type": "markdown",
   "metadata": {},
   "source": [
    "# Predicting Forest Cover Types\n",
    "## Mod 5 - Kaggle Competition - Machine Learning"
   ]
  },
  {
   "cell_type": "markdown",
   "metadata": {},
   "source": [
    "![alt text](forest.png \"title\")"
   ]
  },
  {
   "cell_type": "markdown",
   "metadata": {},
   "source": [
    "<span style=\"color:green\">by *Valentina Fontiveros*</span>"
   ]
  },
  {
   "cell_type": "markdown",
   "metadata": {},
   "source": [
    "# Read Dataset"
   ]
  },
  {
   "cell_type": "markdown",
   "metadata": {},
   "source": [
    "At this stage, we have generated several features and done visualization steps."
   ]
  },
  {
   "cell_type": "code",
   "execution_count": 2,
   "metadata": {},
   "outputs": [
    {
     "name": "stderr",
     "output_type": "stream",
     "text": [
      "/anaconda3/envs/learn-env/lib/python3.6/site-packages/sklearn/externals/six.py:31: DeprecationWarning: The module is deprecated in version 0.21 and will be removed in version 0.23 since we've dropped support for Python 2.7. Please rely on the official version of six (https://pypi.org/project/six/).\n",
      "  \"(https://pypi.org/project/six/).\", DeprecationWarning)\n"
     ]
    }
   ],
   "source": [
    "import pandas as pd\n",
    "import numpy as np\n",
    "import random\n",
    "\n",
    "import matplotlib.pyplot as plt\n",
    "from mpl_toolkits.mplot3d import Axes3D\n",
    "import matplotlib.pyplot as plt\n",
    "plt.rcParams['image.cmap'] = 'Paired'\n",
    "\n",
    "import seaborn as sns\n",
    "sns.palplot(sns.color_palette(\"Paired\"))\n",
    "%matplotlib inline\n",
    "\n",
    "import warnings\n",
    "warnings.filterwarnings('ignore')\n",
    "\n",
    "#!pip install lightgbm\n",
    "from lightgbm import LGBMClassifier\n",
    "#!pip install mlxtend  \n",
    "from mlxtend.classifier import StackingCVClassifier\n",
    "\n",
    "from sklearn.ensemble import AdaBoostClassifier, ExtraTreesClassifier, RandomForestClassifier\n",
    "from sklearn.preprocessing import MinMaxScaler\n",
    "from sklearn.model_selection import cross_val_score\n",
    "from sklearn.tree import DecisionTreeClassifier\n",
    "from sklearn.model_selection import cross_val_score\n",
    "from imblearn.over_sampling import RandomOverSampler\n",
    "\n",
    "\n",
    "random_state = 1\n",
    "random.seed(random_state)\n",
    "np.random.seed(random_state)\n",
    "\n",
    "\n",
    "import os\n",
    "import random\n",
    "import warnings\n",
    "\n",
    "warnings.simplefilter(action='ignore', category=FutureWarning)\n",
    "\n",
    "import numpy as np\n",
    "import pandas as pd\n",
    "\n",
    "from imblearn.over_sampling import RandomOverSampler\n",
    "\n",
    "from lightgbm import LGBMClassifier\n",
    "\n",
    "#!pip install mlxtend  \n",
    "from mlxtend.classifier import StackingCVClassifier\n",
    "\n",
    "from sklearn.ensemble import AdaBoostClassifier, ExtraTreesClassifier, RandomForestClassifier\n",
    "from sklearn.preprocessing import MinMaxScaler\n",
    "from sklearn.model_selection import cross_val_score\n",
    "from sklearn.tree import DecisionTreeClassifier\n",
    "\n",
    "random_state = 1\n",
    "random.seed(random_state)\n",
    "np.random.seed(random_state)\n"
   ]
  },
  {
   "cell_type": "code",
   "execution_count": 2,
   "metadata": {},
   "outputs": [
    {
     "data": {
      "text/html": [
       "<div>\n",
       "<style scoped>\n",
       "    .dataframe tbody tr th:only-of-type {\n",
       "        vertical-align: middle;\n",
       "    }\n",
       "\n",
       "    .dataframe tbody tr th {\n",
       "        vertical-align: top;\n",
       "    }\n",
       "\n",
       "    .dataframe thead th {\n",
       "        text-align: right;\n",
       "    }\n",
       "</style>\n",
       "<table border=\"1\" class=\"dataframe\">\n",
       "  <thead>\n",
       "    <tr style=\"text-align: right;\">\n",
       "      <th></th>\n",
       "      <th>Elevation</th>\n",
       "      <th>Aspect</th>\n",
       "      <th>Slope</th>\n",
       "      <th>Horizontal_Distance_To_Hydrology</th>\n",
       "      <th>Vertical_Distance_To_Hydrology</th>\n",
       "      <th>Horizontal_Distance_To_Roadways</th>\n",
       "      <th>Hillshade_9am</th>\n",
       "      <th>Hillshade_Noon</th>\n",
       "      <th>Hillshade_3pm</th>\n",
       "      <th>Horizontal_Distance_To_Fire_Points</th>\n",
       "      <th>...</th>\n",
       "      <th>Temp_9am</th>\n",
       "      <th>Temp_Noon</th>\n",
       "      <th>Temp_3pm</th>\n",
       "      <th>Elev_Vhydro_diff</th>\n",
       "      <th>Hhydro_Fire_sum</th>\n",
       "      <th>Hhydro_Fire_diff</th>\n",
       "      <th>Hhydro_Road_sum</th>\n",
       "      <th>Hhydro_Road_diff</th>\n",
       "      <th>Road_Fire_sum</th>\n",
       "      <th>Road_Fire_diff</th>\n",
       "    </tr>\n",
       "  </thead>\n",
       "  <tbody>\n",
       "    <tr>\n",
       "      <td>15116</td>\n",
       "      <td>2607.0</td>\n",
       "      <td>243.0</td>\n",
       "      <td>23.0</td>\n",
       "      <td>258.0</td>\n",
       "      <td>7.0</td>\n",
       "      <td>660.0</td>\n",
       "      <td>170.0</td>\n",
       "      <td>251.0</td>\n",
       "      <td>214.0</td>\n",
       "      <td>1282.0</td>\n",
       "      <td>...</td>\n",
       "      <td>95.707276</td>\n",
       "      <td>588.594253</td>\n",
       "      <td>404.675396</td>\n",
       "      <td>2600.0</td>\n",
       "      <td>1540.0</td>\n",
       "      <td>1024.0</td>\n",
       "      <td>918.0</td>\n",
       "      <td>402.0</td>\n",
       "      <td>1942.0</td>\n",
       "      <td>622.0</td>\n",
       "    </tr>\n",
       "    <tr>\n",
       "      <td>15117</td>\n",
       "      <td>2603.0</td>\n",
       "      <td>121.0</td>\n",
       "      <td>19.0</td>\n",
       "      <td>633.0</td>\n",
       "      <td>195.0</td>\n",
       "      <td>618.0</td>\n",
       "      <td>249.0</td>\n",
       "      <td>221.0</td>\n",
       "      <td>91.0</td>\n",
       "      <td>1325.0</td>\n",
       "      <td>...</td>\n",
       "      <td>590.679139</td>\n",
       "      <td>145.389441</td>\n",
       "      <td>12.997776</td>\n",
       "      <td>2408.0</td>\n",
       "      <td>1958.0</td>\n",
       "      <td>692.0</td>\n",
       "      <td>1251.0</td>\n",
       "      <td>15.0</td>\n",
       "      <td>1943.0</td>\n",
       "      <td>707.0</td>\n",
       "    </tr>\n",
       "    <tr>\n",
       "      <td>15118</td>\n",
       "      <td>2492.0</td>\n",
       "      <td>134.0</td>\n",
       "      <td>25.0</td>\n",
       "      <td>365.0</td>\n",
       "      <td>117.0</td>\n",
       "      <td>335.0</td>\n",
       "      <td>250.0</td>\n",
       "      <td>220.0</td>\n",
       "      <td>83.0</td>\n",
       "      <td>1187.0</td>\n",
       "      <td>...</td>\n",
       "      <td>603.499543</td>\n",
       "      <td>214.570085</td>\n",
       "      <td>23.294797</td>\n",
       "      <td>2375.0</td>\n",
       "      <td>1552.0</td>\n",
       "      <td>822.0</td>\n",
       "      <td>700.0</td>\n",
       "      <td>30.0</td>\n",
       "      <td>1522.0</td>\n",
       "      <td>852.0</td>\n",
       "    </tr>\n",
       "    <tr>\n",
       "      <td>15119</td>\n",
       "      <td>2487.0</td>\n",
       "      <td>167.0</td>\n",
       "      <td>28.0</td>\n",
       "      <td>218.0</td>\n",
       "      <td>101.0</td>\n",
       "      <td>242.0</td>\n",
       "      <td>229.0</td>\n",
       "      <td>237.0</td>\n",
       "      <td>119.0</td>\n",
       "      <td>932.0</td>\n",
       "      <td>...</td>\n",
       "      <td>503.644536</td>\n",
       "      <td>414.612305</td>\n",
       "      <td>92.230825</td>\n",
       "      <td>2386.0</td>\n",
       "      <td>1150.0</td>\n",
       "      <td>714.0</td>\n",
       "      <td>460.0</td>\n",
       "      <td>24.0</td>\n",
       "      <td>1174.0</td>\n",
       "      <td>690.0</td>\n",
       "    </tr>\n",
       "    <tr>\n",
       "      <td>15120</td>\n",
       "      <td>2475.0</td>\n",
       "      <td>197.0</td>\n",
       "      <td>34.0</td>\n",
       "      <td>319.0</td>\n",
       "      <td>78.0</td>\n",
       "      <td>270.0</td>\n",
       "      <td>189.0</td>\n",
       "      <td>244.0</td>\n",
       "      <td>164.0</td>\n",
       "      <td>914.0</td>\n",
       "      <td>...</td>\n",
       "      <td>314.483347</td>\n",
       "      <td>548.677056</td>\n",
       "      <td>211.948960</td>\n",
       "      <td>2397.0</td>\n",
       "      <td>1233.0</td>\n",
       "      <td>595.0</td>\n",
       "      <td>589.0</td>\n",
       "      <td>49.0</td>\n",
       "      <td>1184.0</td>\n",
       "      <td>644.0</td>\n",
       "    </tr>\n",
       "  </tbody>\n",
       "</table>\n",
       "<p>5 rows × 84 columns</p>\n",
       "</div>"
      ],
      "text/plain": [
       "       Elevation  Aspect  Slope  Horizontal_Distance_To_Hydrology  \\\n",
       "15116     2607.0   243.0   23.0                             258.0   \n",
       "15117     2603.0   121.0   19.0                             633.0   \n",
       "15118     2492.0   134.0   25.0                             365.0   \n",
       "15119     2487.0   167.0   28.0                             218.0   \n",
       "15120     2475.0   197.0   34.0                             319.0   \n",
       "\n",
       "       Vertical_Distance_To_Hydrology  Horizontal_Distance_To_Roadways  \\\n",
       "15116                             7.0                            660.0   \n",
       "15117                           195.0                            618.0   \n",
       "15118                           117.0                            335.0   \n",
       "15119                           101.0                            242.0   \n",
       "15120                            78.0                            270.0   \n",
       "\n",
       "       Hillshade_9am  Hillshade_Noon  Hillshade_3pm  \\\n",
       "15116          170.0           251.0          214.0   \n",
       "15117          249.0           221.0           91.0   \n",
       "15118          250.0           220.0           83.0   \n",
       "15119          229.0           237.0          119.0   \n",
       "15120          189.0           244.0          164.0   \n",
       "\n",
       "       Horizontal_Distance_To_Fire_Points  ...    Temp_9am   Temp_Noon  \\\n",
       "15116                              1282.0  ...   95.707276  588.594253   \n",
       "15117                              1325.0  ...  590.679139  145.389441   \n",
       "15118                              1187.0  ...  603.499543  214.570085   \n",
       "15119                               932.0  ...  503.644536  414.612305   \n",
       "15120                               914.0  ...  314.483347  548.677056   \n",
       "\n",
       "         Temp_3pm  Elev_Vhydro_diff  Hhydro_Fire_sum  Hhydro_Fire_diff  \\\n",
       "15116  404.675396            2600.0           1540.0            1024.0   \n",
       "15117   12.997776            2408.0           1958.0             692.0   \n",
       "15118   23.294797            2375.0           1552.0             822.0   \n",
       "15119   92.230825            2386.0           1150.0             714.0   \n",
       "15120  211.948960            2397.0           1233.0             595.0   \n",
       "\n",
       "       Hhydro_Road_sum  Hhydro_Road_diff  Road_Fire_sum  Road_Fire_diff  \n",
       "15116            918.0             402.0         1942.0           622.0  \n",
       "15117           1251.0              15.0         1943.0           707.0  \n",
       "15118            700.0              30.0         1522.0           852.0  \n",
       "15119            460.0              24.0         1174.0           690.0  \n",
       "15120            589.0              49.0         1184.0           644.0  \n",
       "\n",
       "[5 rows x 84 columns]"
      ]
     },
     "execution_count": 2,
     "metadata": {},
     "output_type": "execute_result"
    }
   ],
   "source": [
    "# Read labeled data \"train\"\n",
    "labeled_data = pd.read_csv('train_Oct11_Step1.csv', dtype = 'float')\n",
    "labeled_data.index = labeled_data.index + 1\n",
    "labeled_data.drop('Id',axis=1,inplace=True)\n",
    "labels = labeled_data.Cover_Type\n",
    "labeled_data.tail()"
   ]
  },
  {
   "cell_type": "code",
   "execution_count": 3,
   "metadata": {},
   "outputs": [
    {
     "data": {
      "text/html": [
       "<div>\n",
       "<style scoped>\n",
       "    .dataframe tbody tr th:only-of-type {\n",
       "        vertical-align: middle;\n",
       "    }\n",
       "\n",
       "    .dataframe tbody tr th {\n",
       "        vertical-align: top;\n",
       "    }\n",
       "\n",
       "    .dataframe thead th {\n",
       "        text-align: right;\n",
       "    }\n",
       "</style>\n",
       "<table border=\"1\" class=\"dataframe\">\n",
       "  <thead>\n",
       "    <tr style=\"text-align: right;\">\n",
       "      <th></th>\n",
       "      <th>Elevation</th>\n",
       "      <th>Aspect</th>\n",
       "      <th>Slope</th>\n",
       "      <th>Horizontal_Distance_To_Hydrology</th>\n",
       "      <th>Vertical_Distance_To_Hydrology</th>\n",
       "      <th>Horizontal_Distance_To_Roadways</th>\n",
       "      <th>Hillshade_9am</th>\n",
       "      <th>Hillshade_Noon</th>\n",
       "      <th>Hillshade_3pm</th>\n",
       "      <th>Horizontal_Distance_To_Fire_Points</th>\n",
       "      <th>...</th>\n",
       "      <th>Temp_9am</th>\n",
       "      <th>Temp_Noon</th>\n",
       "      <th>Temp_3pm</th>\n",
       "      <th>Elev_Vhydro_diff</th>\n",
       "      <th>Hhydro_Fire_sum</th>\n",
       "      <th>Hhydro_Fire_diff</th>\n",
       "      <th>Hhydro_Road_sum</th>\n",
       "      <th>Hhydro_Road_diff</th>\n",
       "      <th>Road_Fire_sum</th>\n",
       "      <th>Road_Fire_diff</th>\n",
       "    </tr>\n",
       "  </thead>\n",
       "  <tbody>\n",
       "    <tr>\n",
       "      <td>15121</td>\n",
       "      <td>2680.0</td>\n",
       "      <td>354.0</td>\n",
       "      <td>14.0</td>\n",
       "      <td>0.0</td>\n",
       "      <td>0.0</td>\n",
       "      <td>2684.0</td>\n",
       "      <td>196.0</td>\n",
       "      <td>214.0</td>\n",
       "      <td>156.0</td>\n",
       "      <td>6645.0</td>\n",
       "      <td>...</td>\n",
       "      <td>-1.941387e+01</td>\n",
       "      <td>23.541406</td>\n",
       "      <td>172.306440</td>\n",
       "      <td>2680.0</td>\n",
       "      <td>6645.0</td>\n",
       "      <td>6645.0</td>\n",
       "      <td>2684.0</td>\n",
       "      <td>2684.0</td>\n",
       "      <td>NaN</td>\n",
       "      <td>3961.0</td>\n",
       "    </tr>\n",
       "    <tr>\n",
       "      <td>15122</td>\n",
       "      <td>2683.0</td>\n",
       "      <td>0.0</td>\n",
       "      <td>13.0</td>\n",
       "      <td>0.0</td>\n",
       "      <td>0.0</td>\n",
       "      <td>2654.0</td>\n",
       "      <td>201.0</td>\n",
       "      <td>216.0</td>\n",
       "      <td>152.0</td>\n",
       "      <td>6675.0</td>\n",
       "      <td>...</td>\n",
       "      <td>1.230770e-14</td>\n",
       "      <td>0.000000</td>\n",
       "      <td>152.000000</td>\n",
       "      <td>2683.0</td>\n",
       "      <td>6675.0</td>\n",
       "      <td>6675.0</td>\n",
       "      <td>2654.0</td>\n",
       "      <td>2654.0</td>\n",
       "      <td>NaN</td>\n",
       "      <td>4021.0</td>\n",
       "    </tr>\n",
       "    <tr>\n",
       "      <td>15123</td>\n",
       "      <td>2713.0</td>\n",
       "      <td>16.0</td>\n",
       "      <td>15.0</td>\n",
       "      <td>0.0</td>\n",
       "      <td>0.0</td>\n",
       "      <td>2980.0</td>\n",
       "      <td>206.0</td>\n",
       "      <td>208.0</td>\n",
       "      <td>137.0</td>\n",
       "      <td>6344.0</td>\n",
       "      <td>...</td>\n",
       "      <td>6.476139e+01</td>\n",
       "      <td>-49.275003</td>\n",
       "      <td>99.237682</td>\n",
       "      <td>2713.0</td>\n",
       "      <td>6344.0</td>\n",
       "      <td>6344.0</td>\n",
       "      <td>2980.0</td>\n",
       "      <td>2980.0</td>\n",
       "      <td>NaN</td>\n",
       "      <td>3364.0</td>\n",
       "    </tr>\n",
       "    <tr>\n",
       "      <td>15124</td>\n",
       "      <td>2709.0</td>\n",
       "      <td>24.0</td>\n",
       "      <td>17.0</td>\n",
       "      <td>0.0</td>\n",
       "      <td>0.0</td>\n",
       "      <td>2950.0</td>\n",
       "      <td>208.0</td>\n",
       "      <td>201.0</td>\n",
       "      <td>125.0</td>\n",
       "      <td>6374.0</td>\n",
       "      <td>...</td>\n",
       "      <td>1.025838e+02</td>\n",
       "      <td>-64.376702</td>\n",
       "      <td>74.157920</td>\n",
       "      <td>2709.0</td>\n",
       "      <td>6374.0</td>\n",
       "      <td>6374.0</td>\n",
       "      <td>2950.0</td>\n",
       "      <td>2950.0</td>\n",
       "      <td>NaN</td>\n",
       "      <td>3424.0</td>\n",
       "    </tr>\n",
       "    <tr>\n",
       "      <td>15125</td>\n",
       "      <td>2706.0</td>\n",
       "      <td>29.0</td>\n",
       "      <td>19.0</td>\n",
       "      <td>0.0</td>\n",
       "      <td>0.0</td>\n",
       "      <td>2920.0</td>\n",
       "      <td>210.0</td>\n",
       "      <td>195.0</td>\n",
       "      <td>115.0</td>\n",
       "      <td>6404.0</td>\n",
       "      <td>...</td>\n",
       "      <td>1.281399e+02</td>\n",
       "      <td>-70.088719</td>\n",
       "      <td>59.246894</td>\n",
       "      <td>2706.0</td>\n",
       "      <td>6404.0</td>\n",
       "      <td>6404.0</td>\n",
       "      <td>2920.0</td>\n",
       "      <td>2920.0</td>\n",
       "      <td>NaN</td>\n",
       "      <td>3484.0</td>\n",
       "    </tr>\n",
       "  </tbody>\n",
       "</table>\n",
       "<p>5 rows × 83 columns</p>\n",
       "</div>"
      ],
      "text/plain": [
       "       Elevation  Aspect  Slope  Horizontal_Distance_To_Hydrology  \\\n",
       "15121     2680.0   354.0   14.0                               0.0   \n",
       "15122     2683.0     0.0   13.0                               0.0   \n",
       "15123     2713.0    16.0   15.0                               0.0   \n",
       "15124     2709.0    24.0   17.0                               0.0   \n",
       "15125     2706.0    29.0   19.0                               0.0   \n",
       "\n",
       "       Vertical_Distance_To_Hydrology  Horizontal_Distance_To_Roadways  \\\n",
       "15121                             0.0                           2684.0   \n",
       "15122                             0.0                           2654.0   \n",
       "15123                             0.0                           2980.0   \n",
       "15124                             0.0                           2950.0   \n",
       "15125                             0.0                           2920.0   \n",
       "\n",
       "       Hillshade_9am  Hillshade_Noon  Hillshade_3pm  \\\n",
       "15121          196.0           214.0          156.0   \n",
       "15122          201.0           216.0          152.0   \n",
       "15123          206.0           208.0          137.0   \n",
       "15124          208.0           201.0          125.0   \n",
       "15125          210.0           195.0          115.0   \n",
       "\n",
       "       Horizontal_Distance_To_Fire_Points  ...      Temp_9am  Temp_Noon  \\\n",
       "15121                              6645.0  ... -1.941387e+01  23.541406   \n",
       "15122                              6675.0  ...  1.230770e-14   0.000000   \n",
       "15123                              6344.0  ...  6.476139e+01 -49.275003   \n",
       "15124                              6374.0  ...  1.025838e+02 -64.376702   \n",
       "15125                              6404.0  ...  1.281399e+02 -70.088719   \n",
       "\n",
       "         Temp_3pm  Elev_Vhydro_diff  Hhydro_Fire_sum  Hhydro_Fire_diff  \\\n",
       "15121  172.306440            2680.0           6645.0            6645.0   \n",
       "15122  152.000000            2683.0           6675.0            6675.0   \n",
       "15123   99.237682            2713.0           6344.0            6344.0   \n",
       "15124   74.157920            2709.0           6374.0            6374.0   \n",
       "15125   59.246894            2706.0           6404.0            6404.0   \n",
       "\n",
       "       Hhydro_Road_sum  Hhydro_Road_diff  Road_Fire_sum  Road_Fire_diff  \n",
       "15121           2684.0            2684.0            NaN          3961.0  \n",
       "15122           2654.0            2654.0            NaN          4021.0  \n",
       "15123           2980.0            2980.0            NaN          3364.0  \n",
       "15124           2950.0            2950.0            NaN          3424.0  \n",
       "15125           2920.0            2920.0            NaN          3484.0  \n",
       "\n",
       "[5 rows x 83 columns]"
      ]
     },
     "execution_count": 3,
     "metadata": {},
     "output_type": "execute_result"
    }
   ],
   "source": [
    "# Read unlabeled data \"test\"\n",
    "unlabeled_data = pd.read_csv('test_Oct11_Step1.csv', dtype = 'float')\n",
    "unlabeled_data.index = unlabeled_data.index + 15121\n",
    "unlabeled_data.drop('Id',axis=1,inplace=True)\n",
    "unlabeled_data.head()"
   ]
  },
  {
   "cell_type": "markdown",
   "metadata": {},
   "source": [
    "### Preprocessing - Feature Selection"
   ]
  },
  {
   "cell_type": "code",
   "execution_count": 4,
   "metadata": {},
   "outputs": [],
   "source": [
    "labeled_drop_soil = labeled_data.drop(labeled_data.columns[14:54],axis=1)\n",
    "unlabeled_drop_soil = unlabeled_data.drop(unlabeled_data.columns[14:54],axis=1)"
   ]
  },
  {
   "cell_type": "code",
   "execution_count": 5,
   "metadata": {},
   "outputs": [],
   "source": [
    "# Drop features\n",
    "labeled_data = labeled_data.drop(['Cover_Type', 'Wilderness_Area'],axis=1)\n",
    "unlabeled_data = unlabeled_data.drop(['Wilderness_Area'],axis=1)"
   ]
  },
  {
   "cell_type": "code",
   "execution_count": 6,
   "metadata": {},
   "outputs": [],
   "source": [
    "labeled_data['Road_Fire_sum'] = labeled_data.Horizontal_Distance_To_Roadways + labeled_data.Horizontal_Distance_To_Fire_Points\n",
    "unlabeled_data['Road_Fire_sum'] = unlabeled_data.Horizontal_Distance_To_Roadways + unlabeled_data.Horizontal_Distance_To_Fire_Points\n"
   ]
  },
  {
   "cell_type": "code",
   "execution_count": 7,
   "metadata": {},
   "outputs": [],
   "source": [
    "# Drop correlated features\n",
    "#corr_features = ['Light_Exposure','South_Normed','Soil_Lithics','Outcrop_1.0','Outcrop_2.0','Wilderness_Area4','Aspect','Soil_Drainage','Slope','Absolute_Distance_to_Hydrology','South', 'West', 'North','Horizontal_Distance_To_Hydrology', 'Vertical_Distance_To_Hydrology','Soil_Depth','Hillshade_9am', 'Hillshade_Noon','East','East_Normed', 'Hillshade_3pm','Wilderness_Area1','Outcrop_0.0']\n",
    "#labeled_features = labeled_features.drop(corr_features,axis=1)\n",
    "#unlabeled_features = unlabeled_features.drop(corr_features,axis=1)"
   ]
  },
  {
   "cell_type": "code",
   "execution_count": 8,
   "metadata": {},
   "outputs": [
    {
     "data": {
      "text/plain": [
       "82"
      ]
     },
     "execution_count": 8,
     "metadata": {},
     "output_type": "execute_result"
    }
   ],
   "source": [
    "len(labeled_data.columns)"
   ]
  },
  {
   "cell_type": "code",
   "execution_count": 9,
   "metadata": {},
   "outputs": [
    {
     "data": {
      "text/plain": [
       "True"
      ]
     },
     "execution_count": 9,
     "metadata": {},
     "output_type": "execute_result"
    }
   ],
   "source": [
    "len(labeled_data.columns) == len(unlabeled_data.columns)"
   ]
  },
  {
   "cell_type": "code",
   "execution_count": 10,
   "metadata": {},
   "outputs": [
    {
     "data": {
      "text/plain": [
       "Index(['Elevation', 'Aspect', 'Slope', 'Horizontal_Distance_To_Hydrology',\n",
       "       'Vertical_Distance_To_Hydrology', 'Horizontal_Distance_To_Roadways',\n",
       "       'Hillshade_9am', 'Hillshade_Noon', 'Hillshade_3pm',\n",
       "       'Horizontal_Distance_To_Fire_Points', 'Wilderness_Area1',\n",
       "       'Wilderness_Area2', 'Wilderness_Area3', 'Wilderness_Area4',\n",
       "       'Soil_Type1', 'Soil_Type2', 'Soil_Type3', 'Soil_Type4', 'Soil_Type5',\n",
       "       'Soil_Type6', 'Soil_Type7', 'Soil_Type8', 'Soil_Type9', 'Soil_Type10',\n",
       "       'Soil_Type11', 'Soil_Type12', 'Soil_Type13', 'Soil_Type14',\n",
       "       'Soil_Type15', 'Soil_Type16', 'Soil_Type17', 'Soil_Type18',\n",
       "       'Soil_Type19', 'Soil_Type20', 'Soil_Type21', 'Soil_Type22',\n",
       "       'Soil_Type23', 'Soil_Type24', 'Soil_Type25', 'Soil_Type26',\n",
       "       'Soil_Type27', 'Soil_Type28', 'Soil_Type29', 'Soil_Type30',\n",
       "       'Soil_Type31', 'Soil_Type32', 'Soil_Type33', 'Soil_Type34',\n",
       "       'Soil_Type35', 'Soil_Type36', 'Soil_Type37', 'Soil_Type38',\n",
       "       'Soil_Type39', 'Soil_Type40', 'Absolute_Distance_to_Hydrology',\n",
       "       'Light_Exposure', 'Soil_Lithics', 'Soil_Drainage', 'Soil_Depth',\n",
       "       'Rocky_Terrain', 'East', 'South', 'West', 'North', 'South_Normed',\n",
       "       'East_Normed', 'West_Normed', 'North_Normed', 'Temperature_Proxy',\n",
       "       'Moisture_Proxy', 'Temp_N_S', 'Temp_E_W', 'Temp_9am', 'Temp_Noon',\n",
       "       'Temp_3pm', 'Elev_Vhydro_diff', 'Hhydro_Fire_sum', 'Hhydro_Fire_diff',\n",
       "       'Hhydro_Road_sum', 'Hhydro_Road_diff', 'Road_Fire_sum',\n",
       "       'Road_Fire_diff'],\n",
       "      dtype='object')"
      ]
     },
     "execution_count": 10,
     "metadata": {},
     "output_type": "execute_result"
    }
   ],
   "source": [
    "labeled_data.columns"
   ]
  },
  {
   "cell_type": "code",
   "execution_count": 11,
   "metadata": {},
   "outputs": [],
   "source": [
    "# all data for labeled and unlabeled data \n",
    "X = pd.concat([labeled_data,unlabeled_data])"
   ]
  },
  {
   "cell_type": "code",
   "execution_count": 12,
   "metadata": {},
   "outputs": [
    {
     "data": {
      "text/plain": [
       "RangeIndex(start=1, stop=581013, step=1)"
      ]
     },
     "execution_count": 12,
     "metadata": {},
     "output_type": "execute_result"
    }
   ],
   "source": [
    "X.index"
   ]
  },
  {
   "cell_type": "code",
   "execution_count": 13,
   "metadata": {},
   "outputs": [
    {
     "data": {
      "image/png": "[encoded data removed]",
      "text/plain": [
       "<Figure size 1440x1440 with 2 Axes>"
      ]
     },
     "metadata": {
      "needs_background": "light"
     },
     "output_type": "display_data"
    }
   ],
   "source": [
    "plt.subplots(figsize=(20, 20))\n",
    "sns.heatmap(np.abs(X.corr()),center=0,square=True, linewidths=.5, cmap=\"YlGnBu\",cbar_kws={\"shrink\": .5})\n",
    "plt.title('Correlation Matrix')\n",
    "plt.show()"
   ]
  },
  {
   "cell_type": "code",
   "execution_count": 14,
   "metadata": {},
   "outputs": [],
   "source": [
    "# Remove irrelevant features\n",
    "drop_feat = ['Slope','Soil_Type7','Soil_Type15','Aspect','Hillshade_9am','Hillshade_3pm','Hillshade_Noon','East','South','North','West','East_Normed',\n",
    "            'West_Normed','North_Normed','South_Normed','Temp_9am','Temp_Noon','Temp_3pm','Soil_Depth','Soil_Drainage',\n",
    "            'Horizontal_Distance_To_Hydrology','Vertical_Distance_To_Hydrology']"
   ]
  },
  {
   "cell_type": "code",
   "execution_count": 15,
   "metadata": {},
   "outputs": [
    {
     "data": {
      "image/png": "[encoded data removed]",
      "text/plain": [
       "<Figure size 1440x1440 with 2 Axes>"
      ]
     },
     "metadata": {
      "needs_background": "light"
     },
     "output_type": "display_data"
    }
   ],
   "source": [
    "X.drop(drop_feat,axis=1,inplace=True)\n",
    "unlabeled_data.drop(drop_feat,axis=1,inplace=True)\n",
    "labeled_data.drop(drop_feat,axis=1,inplace=True)\n",
    "plt.subplots(figsize=(20, 20))\n",
    "sns.heatmap(np.abs(X.corr()),center=0,square=True, linewidths=.5, cmap=\"YlGnBu\",cbar_kws={\"shrink\": .5})\n",
    "plt.title('Correlation Matrix')\n",
    "plt.show()"
   ]
  },
  {
   "cell_type": "code",
   "execution_count": 16,
   "metadata": {},
   "outputs": [
    {
     "data": {
      "text/plain": [
       "<matplotlib.axes._subplots.AxesSubplot at 0x126519e48>"
      ]
     },
     "execution_count": 16,
     "metadata": {},
     "output_type": "execute_result"
    },
    {
     "data": {
      "image/png": "[encoded data removed]",
      "text/plain": [
       "<Figure size 1440x1440 with 2 Axes>"
      ]
     },
     "metadata": {
      "needs_background": "light"
     },
     "output_type": "display_data"
    }
   ],
   "source": [
    "soil_num = [1,2,5,6,8,9,11,13,14,16,17,18,19,20,21,24,25,26,27,28,31,34,35,36]\n",
    "\n",
    "drop_soils = []\n",
    "\n",
    "for num in soil_num:\n",
    "    string = 'Soil_Type{}'.format(num)\n",
    "    drop_soils.append(string)\n",
    "\n",
    "X.drop(drop_soils,axis=1,inplace=True)\n",
    "unlabeled_data.drop(drop_soils,axis=1,inplace=True)\n",
    "labeled_data.drop(drop_soils,axis=1,inplace=True)\n",
    "plt.subplots(figsize=(20, 20))\n",
    "sns.heatmap(np.abs(X.corr()),center=0,square=True, linewidths=.5, cmap=\"YlGnBu\",cbar_kws={\"shrink\": .5})"
   ]
  },
  {
   "cell_type": "markdown",
   "metadata": {},
   "source": [
    "## Preprocessing - Train Test Split"
   ]
  },
  {
   "cell_type": "code",
   "execution_count": 17,
   "metadata": {},
   "outputs": [],
   "source": [
    "def get_wa_data(X, wa):\n",
    "    # Get data for a Wilderness_Area\n",
    "    X_wa = X[X['Wilderness_Area{}'.format(wa)] == 1]\n",
    "    \n",
    "    return X_wa\n"
   ]
  },
  {
   "cell_type": "code",
   "execution_count": 18,
   "metadata": {},
   "outputs": [],
   "source": [
    "def performance(y_true, y_predict):\n",
    "    from sklearn.metrics import accuracy_score \n",
    "    from sklearn.metrics import mean_squared_error  \n",
    "    from sklearn.metrics import r2_score \n",
    "    acc = accuracy_score(y_true, y_predict)\n",
    "    r2 = r2_score(y_true,y_predict)\n",
    "    mse = mean_squared_error(y_true,y_predict)\n",
    "    # Return the score\n",
    "    return ['Accuracy: ',acc,'R-squared: ', r2,'Mean Squared Error: ',mse]\n",
    "\n",
    "\n",
    "\n",
    "             "
   ]
  },
  {
   "cell_type": "code",
   "execution_count": 19,
   "metadata": {},
   "outputs": [],
   "source": [
    "# drop empty or label features to be dropped from the modeling. \\\n",
    "# outputs X_train, \n",
    "def preprocess(labeled_wa,labels_wa,unlabeled_wa,test_size):\n",
    "    \n",
    "    ''' This function takes in all feature data (even unlabeled features) and scales it.\n",
    "        Splits data in train set and test sets, as well as outputs unlabeled features as a separate\n",
    "        dataframe for later prediction. '''\n",
    "    \n",
    "    from sklearn.preprocessing import StandardScaler\n",
    "    from sklearn.preprocessing import MinMaxScaler\n",
    "    from sklearn.model_selection import train_test_split\n",
    "    \n",
    "    print('Preprocessing Step')\n",
    "\n",
    "    X = pd.concat([labeled_wa, unlabeled_wa])\n",
    "    print('X Records: ',len(X))\n",
    "    \n",
    "    # Drop features with low variance in training set\n",
    "    lo_var_cols = []\n",
    "    max_mode_freq = len(labeled_wa) - 10\n",
    "    \n",
    "    for col in labeled_wa.columns:\n",
    "        if  X.loc[labeled_wa.index, col].value_counts().iat[0] > max_mode_freq:\n",
    "            lo_var_cols.append(col)\n",
    "    \n",
    "    if lo_var_cols:\n",
    "        labeled_wa = labeled_wa.drop(lo_var_cols, axis='columns')\n",
    "        unlabeled_wa  = unlabeled_wa.drop(lo_var_cols, axis='columns')\n",
    "        X = X.drop(lo_var_cols, axis='columns')\n",
    "   \n",
    "    print('X Records: ',len(X))   \n",
    "    scaler = StandardScaler()\n",
    "    scaler.fit(X)\n",
    "    X_scaled = pd.DataFrame(scaler.transform(X))\n",
    "    X_scaled.columns = X.columns\n",
    "    X_scaled.index = X.index\n",
    "   \n",
    "    print('X scaled Records: ',len(X_scaled))  \n",
    "    \n",
    "    labeled_wa_scaled =  X_scaled.loc[labeled_wa.index,:]\n",
    " \n",
    "    unlabeled_wa_scaled = X_scaled.loc[unlabeled_wa.index,:]\n",
    "    \n",
    "    X_train, X_test, y_train, y_test = train_test_split(labeled_wa_scaled,labels_wa,test_size=test_size,random_state=14)\n",
    "\n",
    "    return X_train, X_test, y_train, y_test, unlabeled_wa_scaled"
   ]
  },
  {
   "cell_type": "code",
   "execution_count": 20,
   "metadata": {},
   "outputs": [],
   "source": [
    "def upsample(X_, y_):\n",
    "    # Upsample for equal class counts\n",
    "    # https://www.kaggle.com/shahules/tackling-class-imbalance\n",
    "    \n",
    "    X = X_.copy()\n",
    "    y = y_.copy()\n",
    "    \n",
    "    max_samples = y.value_counts().iat[0]\n",
    "    classes = y.unique().tolist()\n",
    "    sampling_strategy = dict((cl, max_samples) for cl in classes)\n",
    "\n",
    "    sampler = RandomOverSampler(sampling_strategy=sampling_strategy,\n",
    "                                random_state=random_state)\n",
    "\n",
    "    x_columns = X.columns.tolist()\n",
    "    X, y = sampler.fit_resample(X, y)\n",
    "    X = pd.DataFrame(X, columns=x_columns)\n",
    "    y = pd.Series(y)\n",
    "    \n",
    "    return X, y\n"
   ]
  },
  {
   "cell_type": "markdown",
   "metadata": {},
   "source": [
    "### Train by Wildlife Area"
   ]
  },
  {
   "cell_type": "code",
   "execution_count": 21,
   "metadata": {},
   "outputs": [],
   "source": [
    "# model 1\n",
    "\n",
    "ab_clf = AdaBoostClassifier(n_estimators=200,\n",
    "                            base_estimator=DecisionTreeClassifier(\n",
    "                                min_samples_leaf=2,\n",
    "                                random_state=random_state),\n",
    "                            random_state=random_state)\n",
    "\n",
    "et_clf = ExtraTreesClassifier(n_estimators=300,\n",
    "                              min_samples_leaf=2,\n",
    "                              min_samples_split=2,\n",
    "                              max_depth=50,\n",
    "                              random_state=random_state,\n",
    "                              n_jobs=1)\n",
    "\n",
    "lg_clf = LGBMClassifier(n_estimators=300,\n",
    "                        num_leaves=128,\n",
    "                        verbosity=-1,\n",
    "                        random_state=random_state,\n",
    "                        n_jobs=1)\n",
    "\n",
    "rf_clf = RandomForestClassifier(n_estimators=400,\n",
    "                                random_state=random_state,\n",
    "                                n_jobs=1)\n",
    "\n",
    "\n",
    "ensemble = [('AdaBoostClassifier', ab_clf),\n",
    "            ('ExtraTreesClassifier', et_clf),\n",
    "            ('LGBMClassifier', lg_clf),\n",
    "            ('RandomForestClassifier', rf_clf)]\n"
   ]
  },
  {
   "cell_type": "code",
   "execution_count": 22,
   "metadata": {},
   "outputs": [
    {
     "data": {
      "text/plain": [
       "AdaBoostClassifier(algorithm='SAMME.R',\n",
       "                   base_estimator=DecisionTreeClassifier(class_weight=None,\n",
       "                                                         criterion='gini',\n",
       "                                                         max_depth=None,\n",
       "                                                         max_features=None,\n",
       "                                                         max_leaf_nodes=None,\n",
       "                                                         min_impurity_decrease=0.0,\n",
       "                                                         min_impurity_split=None,\n",
       "                                                         min_samples_leaf=2,\n",
       "                                                         min_samples_split=2,\n",
       "                                                         min_weight_fraction_leaf=0.0,\n",
       "                                                         presort=False,\n",
       "                                                         random_state=1,\n",
       "                                                         splitter='best'),\n",
       "                   learning_rate=1.0, n_estimators=200, random_state=1)"
      ]
     },
     "execution_count": 22,
     "metadata": {},
     "output_type": "execute_result"
    }
   ],
   "source": [
    "ab_clf"
   ]
  },
  {
   "cell_type": "code",
   "execution_count": 23,
   "metadata": {},
   "outputs": [
    {
     "data": {
      "text/plain": [
       "15120"
      ]
     },
     "execution_count": 23,
     "metadata": {},
     "output_type": "execute_result"
    }
   ],
   "source": [
    "len(labels)"
   ]
  },
  {
   "cell_type": "markdown",
   "metadata": {},
   "source": [
    "## RUN Stacked Model"
   ]
  },
  {
   "cell_type": "code",
   "execution_count": 24,
   "metadata": {},
   "outputs": [
    {
     "name": "stdout",
     "output_type": "stream",
     "text": [
      "> Processing Wilderness Areas separately\n",
      "> ========== 1 ==========\n",
      "> Extracting data for Wilderness_Area1\n",
      "Labeled records:  3597\n",
      "Label records:  3597\n",
      "Unlabeled Records:  257199\n",
      "> Processing features in Wilderness_Area1\n",
      "Preprocessing Step\n",
      "X Records:  260796\n",
      "X Records:  260796\n",
      "X scaled Records:  260796\n",
      "  -- Xtrain features = 27\n",
      "  -- Xtest features = 27\n",
      "  -- ytrainof records = 2697\n",
      "  -- ytest of records = 900\n",
      "  -- unlabeled of features = 27\n",
      "  -- unlabeled records = 257199\n",
      "> Adjusting models for Wilderness_Area1\n",
      "27\n",
      "Cross-validating classifiers in Wilderness_Area1\n",
      "Train:  [0.8336414  0.87060998 0.85185185 0.86988848 0.8603352 ]\n",
      "Test:  [0.80769231 0.75138122 0.81666667 0.8547486  0.79213483]\n",
      "Train:  [0.8650647  0.87985213 0.86296296 0.87732342 0.87523277]\n",
      "Test:  [0.79120879 0.79005525 0.81111111 0.82122905 0.80337079]\n",
      "Train:  [0.84842884 0.8650647  0.86296296 0.88475836 0.87523277]\n",
      "Test:  [0.80769231 0.75138122 0.80555556 0.80446927 0.81460674]\n",
      "Train:  [0.85027726 0.87985213 0.86481481 0.87174721 0.86592179]\n",
      "Test:  [0.7967033  0.76243094 0.80555556 0.86592179 0.82022472]\n",
      "> Up-sampling in Wilderness_Area1\n",
      "> Fitting stack for Wilderness_Area1\n",
      "Fitting 4 classifiers...\n",
      "Fitting classifier1: adaboostclassifier (1/4)\n"
     ]
    },
    {
     "name": "stderr",
     "output_type": "stream",
     "text": [
      "[Parallel(n_jobs=1)]: Using backend SequentialBackend with 1 concurrent workers.\n",
      "[Parallel(n_jobs=1)]: Done   5 out of   5 | elapsed:   27.0s finished\n",
      "[Parallel(n_jobs=1)]: Using backend SequentialBackend with 1 concurrent workers.\n"
     ]
    },
    {
     "name": "stdout",
     "output_type": "stream",
     "text": [
      "Fitting classifier2: extratreesclassifier (2/4)\n"
     ]
    },
    {
     "name": "stderr",
     "output_type": "stream",
     "text": [
      "[Parallel(n_jobs=1)]: Done   5 out of   5 | elapsed:    7.1s finished\n",
      "[Parallel(n_jobs=1)]: Using backend SequentialBackend with 1 concurrent workers.\n"
     ]
    },
    {
     "name": "stdout",
     "output_type": "stream",
     "text": [
      "Fitting classifier3: lgbmclassifier (3/4)\n"
     ]
    },
    {
     "name": "stderr",
     "output_type": "stream",
     "text": [
      "[Parallel(n_jobs=1)]: Done   5 out of   5 | elapsed:   22.1s finished\n",
      "[Parallel(n_jobs=1)]: Using backend SequentialBackend with 1 concurrent workers.\n"
     ]
    },
    {
     "name": "stdout",
     "output_type": "stream",
     "text": [
      "Fitting classifier4: randomforestclassifier (4/4)\n"
     ]
    },
    {
     "name": "stderr",
     "output_type": "stream",
     "text": [
      "[Parallel(n_jobs=1)]: Done   5 out of   5 | elapsed:    9.2s finished\n"
     ]
    },
    {
     "name": "stdout",
     "output_type": "stream",
     "text": [
      "Train Set:  ['Accuracy: ', 1.0, 'R-squared: ', 1.0, 'Mean Squared Error: ', 0.0]\n",
      "Test Set:   ['Accuracy: ', 0.8994755244755245, 'R-squared: ', 0.8699761776684853, 'Mean Squared Error: ', 0.7395104895104895]\n",
      "> Making predictions for Wilderness_Area1\n",
      "> Creating submission for Wilderness_Area1\n",
      "> Done !\n",
      "> Processing Wilderness Areas separately\n",
      "> ========== 2 ==========\n",
      "> Extracting data for Wilderness_Area2\n",
      "Labeled records:  499\n",
      "Label records:  499\n",
      "Unlabeled Records:  29385\n",
      "> Processing features in Wilderness_Area2\n",
      "Preprocessing Step\n",
      "X Records:  29884\n",
      "X Records:  29884\n",
      "X scaled Records:  29884\n",
      "  -- Xtrain features = 25\n",
      "  -- Xtest features = 25\n",
      "  -- ytrainof records = 374\n",
      "  -- ytest of records = 125\n",
      "  -- unlabeled of features = 25\n",
      "  -- unlabeled records = 29385\n",
      "> Adjusting models for Wilderness_Area2\n",
      "25\n",
      "Cross-validating classifiers in Wilderness_Area2\n",
      "Train:  [0.90789474 0.88157895 0.84       0.86486486 0.87671233]\n",
      "Test:  [0.69230769 0.73076923 0.76923077 0.91666667 0.91304348]\n",
      "Train:  [0.86842105 0.88157895 0.88       0.86486486 0.8630137 ]\n",
      "Test:  [0.80769231 0.73076923 0.76923077 0.95833333 0.82608696]\n",
      "Train:  [0.92105263 0.90789474 0.86666667 0.83783784 0.83561644]\n",
      "Test:  [0.76923077 0.73076923 0.76923077 0.79166667 0.86956522]\n",
      "Train:  [0.89473684 0.86842105 0.81333333 0.86486486 0.8630137 ]\n",
      "Test:  [0.69230769 0.80769231 0.80769231 0.875      0.86956522]\n",
      "> Up-sampling in Wilderness_Area2\n",
      "> Fitting stack for Wilderness_Area2\n",
      "Fitting 4 classifiers...\n",
      "Fitting classifier1: adaboostclassifier (1/4)\n"
     ]
    },
    {
     "name": "stderr",
     "output_type": "stream",
     "text": [
      "[Parallel(n_jobs=1)]: Using backend SequentialBackend with 1 concurrent workers.\n",
      "[Parallel(n_jobs=1)]: Done   5 out of   5 | elapsed:    3.1s finished\n",
      "[Parallel(n_jobs=1)]: Using backend SequentialBackend with 1 concurrent workers.\n"
     ]
    },
    {
     "name": "stdout",
     "output_type": "stream",
     "text": [
      "Fitting classifier2: extratreesclassifier (2/4)\n"
     ]
    },
    {
     "name": "stderr",
     "output_type": "stream",
     "text": [
      "[Parallel(n_jobs=1)]: Done   5 out of   5 | elapsed:    1.6s finished\n",
      "[Parallel(n_jobs=1)]: Using backend SequentialBackend with 1 concurrent workers.\n"
     ]
    },
    {
     "name": "stdout",
     "output_type": "stream",
     "text": [
      "Fitting classifier3: lgbmclassifier (3/4)\n"
     ]
    },
    {
     "name": "stderr",
     "output_type": "stream",
     "text": [
      "[Parallel(n_jobs=1)]: Done   5 out of   5 | elapsed:    2.0s finished\n",
      "[Parallel(n_jobs=1)]: Using backend SequentialBackend with 1 concurrent workers.\n"
     ]
    },
    {
     "name": "stdout",
     "output_type": "stream",
     "text": [
      "Fitting classifier4: randomforestclassifier (4/4)\n"
     ]
    },
    {
     "name": "stderr",
     "output_type": "stream",
     "text": [
      "[Parallel(n_jobs=1)]: Done   5 out of   5 | elapsed:    1.9s finished\n"
     ]
    },
    {
     "name": "stdout",
     "output_type": "stream",
     "text": [
      "Train Set:  ['Accuracy: ', 1.0, 'R-squared: ', 1.0, 'Mean Squared Error: ', 0.0]\n",
      "Test Set:   ['Accuracy: ', 0.7513227513227513, 'R-squared: ', 0.9370199692780338, 'Mean Squared Error: ', 0.43386243386243384]\n",
      "> Making predictions for Wilderness_Area2\n",
      "> Creating submission for Wilderness_Area2\n",
      "> Done !\n",
      "> Processing Wilderness Areas separately\n",
      "> ========== 3 ==========\n",
      "> Extracting data for Wilderness_Area3\n",
      "Labeled records:  6349\n",
      "Label records:  6349\n",
      "Unlabeled Records:  247015\n",
      "> Processing features in Wilderness_Area3\n",
      "Preprocessing Step\n",
      "X Records:  253364\n",
      "X Records:  253364\n",
      "X scaled Records:  253364\n",
      "  -- Xtrain features = 28\n",
      "  -- Xtest features = 28\n",
      "  -- ytrainof records = 4761\n",
      "  -- ytest of records = 1588\n",
      "  -- unlabeled of features = 28\n",
      "  -- unlabeled records = 247015\n",
      "> Adjusting models for Wilderness_Area3\n",
      "28\n",
      "Cross-validating classifiers in Wilderness_Area3\n",
      "Train:  [0.85849057 0.88037775 0.84994753 0.86239496 0.86933614]\n",
      "Test:  [0.8369906  0.77429467 0.8369906  0.8170347  0.79299363]\n",
      "Train:  [0.86268344 0.87303253 0.85204617 0.86869748 0.87460485]\n",
      "Test:  [0.84326019 0.80250784 0.82131661 0.80757098 0.81847134]\n",
      "Train:  [0.860587   0.87827912 0.86253935 0.8592437  0.87881981]\n",
      "Test:  [0.8338558  0.7523511  0.80877743 0.8170347  0.78343949]\n",
      "Train:  [0.86792453 0.87093389 0.84470094 0.86239496 0.86722866]\n",
      "Test:  [0.81818182 0.78369906 0.82131661 0.82334385 0.79617834]\n",
      "> Up-sampling in Wilderness_Area3\n",
      "> Fitting stack for Wilderness_Area3\n",
      "Fitting 4 classifiers...\n",
      "Fitting classifier1: adaboostclassifier (1/4)\n"
     ]
    },
    {
     "name": "stderr",
     "output_type": "stream",
     "text": [
      "[Parallel(n_jobs=1)]: Using backend SequentialBackend with 1 concurrent workers.\n",
      "[Parallel(n_jobs=1)]: Done   5 out of   5 | elapsed:   55.7s finished\n",
      "[Parallel(n_jobs=1)]: Using backend SequentialBackend with 1 concurrent workers.\n"
     ]
    },
    {
     "name": "stdout",
     "output_type": "stream",
     "text": [
      "Fitting classifier2: extratreesclassifier (2/4)\n"
     ]
    },
    {
     "name": "stderr",
     "output_type": "stream",
     "text": [
      "[Parallel(n_jobs=1)]: Done   5 out of   5 | elapsed:   15.6s finished\n",
      "[Parallel(n_jobs=1)]: Using backend SequentialBackend with 1 concurrent workers.\n"
     ]
    },
    {
     "name": "stdout",
     "output_type": "stream",
     "text": [
      "Fitting classifier3: lgbmclassifier (3/4)\n"
     ]
    },
    {
     "name": "stderr",
     "output_type": "stream",
     "text": [
      "[Parallel(n_jobs=1)]: Done   5 out of   5 | elapsed:   49.0s finished\n",
      "[Parallel(n_jobs=1)]: Using backend SequentialBackend with 1 concurrent workers.\n"
     ]
    },
    {
     "name": "stdout",
     "output_type": "stream",
     "text": [
      "Fitting classifier4: randomforestclassifier (4/4)\n"
     ]
    },
    {
     "name": "stderr",
     "output_type": "stream",
     "text": [
      "[Parallel(n_jobs=1)]: Done   5 out of   5 | elapsed:   16.8s finished\n"
     ]
    },
    {
     "name": "stdout",
     "output_type": "stream",
     "text": [
      "Train Set:  ['Accuracy: ', 1.0, 'R-squared: ', 1.0, 'Mean Squared Error: ', 0.0]\n",
      "Test Set:   ['Accuracy: ', 0.8691860465116279, 'R-squared: ', 0.7289244186046512, 'Mean Squared Error: ', 1.2650193798449612]\n",
      "> Making predictions for Wilderness_Area3\n",
      "> Creating submission for Wilderness_Area3\n",
      "> Done !\n",
      "> Processing Wilderness Areas separately\n",
      "> ========== 4 ==========\n",
      "> Extracting data for Wilderness_Area4\n",
      "Labeled records:  4675\n",
      "Label records:  4675\n",
      "Unlabeled Records:  32293\n",
      "> Processing features in Wilderness_Area4\n",
      "Preprocessing Step\n",
      "X Records:  36968\n",
      "X Records:  36968\n",
      "X scaled Records:  36968\n",
      "  -- Xtrain features = 21\n",
      "  -- Xtest features = 21\n",
      "  -- ytrainof records = 3506\n",
      "  -- ytest of records = 1169\n",
      "  -- unlabeled of features = 21\n",
      "  -- unlabeled records = 32293\n",
      "> Adjusting models for Wilderness_Area4\n",
      "21\n",
      "Cross-validating classifiers in Wilderness_Area4\n",
      "Train:  [0.92745377 0.91737892 0.91168091 0.90571429 0.90844063]\n",
      "Test:  [0.85531915 0.83333333 0.85470085 0.88461538 0.86637931]\n",
      "Train:  [0.92460882 0.91310541 0.92592593 0.90428571 0.90844063]\n",
      "Test:  [0.87659574 0.79059829 0.84615385 0.86324786 0.88793103]\n",
      "Train:  [0.92887624 0.91310541 0.91025641 0.92428571 0.90414878]\n",
      "Test:  [0.84255319 0.84188034 0.85897436 0.88888889 0.86637931]\n",
      "Train:  [0.91465149 0.9045584  0.9045584  0.90428571 0.90128755]\n",
      "Test:  [0.84255319 0.82478632 0.84188034 0.85897436 0.86637931]\n",
      "> Up-sampling in Wilderness_Area4\n",
      "> Fitting stack for Wilderness_Area4\n",
      "Fitting 4 classifiers...\n",
      "Fitting classifier1: adaboostclassifier (1/4)\n"
     ]
    },
    {
     "name": "stderr",
     "output_type": "stream",
     "text": [
      "[Parallel(n_jobs=1)]: Using backend SequentialBackend with 1 concurrent workers.\n",
      "[Parallel(n_jobs=1)]: Done   5 out of   5 | elapsed:   40.0s finished\n",
      "[Parallel(n_jobs=1)]: Using backend SequentialBackend with 1 concurrent workers.\n"
     ]
    },
    {
     "name": "stdout",
     "output_type": "stream",
     "text": [
      "Fitting classifier2: extratreesclassifier (2/4)\n"
     ]
    },
    {
     "name": "stderr",
     "output_type": "stream",
     "text": [
      "[Parallel(n_jobs=1)]: Done   5 out of   5 | elapsed:   10.5s finished\n",
      "[Parallel(n_jobs=1)]: Using backend SequentialBackend with 1 concurrent workers.\n"
     ]
    },
    {
     "name": "stdout",
     "output_type": "stream",
     "text": [
      "Fitting classifier3: lgbmclassifier (3/4)\n"
     ]
    },
    {
     "name": "stderr",
     "output_type": "stream",
     "text": [
      "[Parallel(n_jobs=1)]: Done   5 out of   5 | elapsed:   29.3s finished\n",
      "[Parallel(n_jobs=1)]: Using backend SequentialBackend with 1 concurrent workers.\n"
     ]
    },
    {
     "name": "stdout",
     "output_type": "stream",
     "text": [
      "Fitting classifier4: randomforestclassifier (4/4)\n"
     ]
    },
    {
     "name": "stderr",
     "output_type": "stream",
     "text": [
      "[Parallel(n_jobs=1)]: Done   5 out of   5 | elapsed:   14.5s finished\n"
     ]
    },
    {
     "name": "stdout",
     "output_type": "stream",
     "text": [
      "Train Set:  ['Accuracy: ', 1.0, 'R-squared: ', 1.0, 'Mean Squared Error: ', 0.0]\n",
      "Test Set:   ['Accuracy: ', 0.7568681318681318, 'R-squared: ', 0.35028780743066457, 'Mean Squared Error: ', 1.4212454212454213]\n",
      "> Making predictions for Wilderness_Area4\n",
      "> Creating submission for Wilderness_Area4\n",
      "> Done !\n"
     ]
    }
   ],
   "source": [
    "for wa in range(1, 5):\n",
    "\n",
    "    print('> Processing Wilderness Areas separately')\n",
    "    predictions = pd.Series(dtype=labels.dtype)\n",
    "    cross_val_only = False\n",
    "    \n",
    "    print('> ========== {} =========='.format(wa))\n",
    "    \n",
    "    print('> Extracting data for Wilderness_Area{}'.format(wa))\n",
    "    labeled_wa = get_wa_data(labeled_data, wa)\n",
    "    print('Labeled records: ',len(labeled_wa))\n",
    "    labels_wa = labels.loc[labeled_wa.index]\n",
    "    print('Label records: ',len(labels_wa))\n",
    "    unlabeled_wa = get_wa_data(unlabeled_data, wa) \n",
    "    print('Unlabeled Records: ',len(unlabeled_wa))\n",
    "    \n",
    "    print('> Processing features in Wilderness_Area{}'.format(wa))\n",
    "\n",
    "    X_train_wa, X_test_wa, y_train_wa, y_test_wa, unlabeled_scaled_wa = preprocess(labeled_wa,labels_wa,unlabeled_wa, 0.25)\n",
    "\n",
    "    print('  -- Xtrain features = {}'.format(X_train_wa.columns.size))\n",
    "    print('  -- Xtest features = {}'.format(X_test_wa.columns.size))\n",
    "    print('  -- ytrainof records = {}'.format(len(y_train_wa)))\n",
    "    print('  -- ytest of records = {}'.format(len(y_test_wa)))\n",
    "    print('  -- unlabeled of features = {}'.format(unlabeled_scaled_wa.columns.size))\n",
    "    print('  -- unlabeled records = {}'.format(len(unlabeled_scaled_wa)))\n",
    "    \n",
    "    print('> Adjusting models for Wilderness_Area{}'.format(wa))\n",
    "    max_features = min(30, X_train_wa.columns.size)\n",
    "    et_clf.set_params(max_features=max_features)\n",
    "    \n",
    "    print(max_features)\n",
    "    \n",
    "    print('Cross-validating classifiers in Wilderness_Area{}'.format(wa))\n",
    "\n",
    "    for label, clf in ensemble:\n",
    "        score = cross_val_score(clf, X_train_wa, y_train_wa,\n",
    "                                cv=5,\n",
    "                                scoring='accuracy',\n",
    "                                verbose=0,\n",
    "                                n_jobs=-1)\n",
    "        score2 = cross_val_score(clf, X_test_wa, y_test_wa,\n",
    "                                cv=5,\n",
    "                                scoring='accuracy',\n",
    "                                verbose=0,\n",
    "                                n_jobs=-1)\n",
    "        print('Train: ',score)\n",
    "        print('Test: ',score2)\n",
    "    \n",
    "    print('> Up-sampling in Wilderness_Area{}'.format(wa))\n",
    "    \n",
    "    X_train_wa, y_train_wa = upsample(X_train_wa, y_train_wa)\n",
    "    X_test_wa, y_test_wa = upsample(X_test_wa, y_test_wa)\n",
    "    \n",
    "    print('> Fitting stack for Wilderness_Area{}'.format(wa))\n",
    "    # https://www.kaggle.com/arthurtok/introduction-to-ensembling-stacking-in-python\n",
    "    # https://www.kaggle.com/serigne/stacked-regressions-top-4-on-leaderboard\n",
    "    \n",
    "    stack = StackingCVClassifier(classifiers=[ab_clf, et_clf, lg_clf, rf_clf],\n",
    "                                 meta_classifier=rf_clf,\n",
    "                                 cv=5,\n",
    "                                 stratify=True,\n",
    "                                 shuffle=True,\n",
    "                                 use_probas=True,\n",
    "                                 use_features_in_secondary=True,\n",
    "                                 verbose=1,\n",
    "                                 random_state=random_state)\n",
    "    \n",
    "    stack = stack.fit(X_train_wa, y_train_wa)\n",
    "    y_train_pred_wa = stack.predict(X_train_wa)\n",
    "    print('Train Set: ', performance(y_train_wa,y_train_pred_wa))\n",
    "    \n",
    "    y_test_pred_wa = stack.predict(X_test_wa)\n",
    "    print('Test Set:  ', performance(y_test_wa, y_test_pred_wa))\n",
    "    \n",
    "    \n",
    "    print('> Making predictions for Wilderness_Area{}'.format(wa))\n",
    "    prediction_wa = stack.predict(unlabeled_scaled_wa)\n",
    "    \n",
    "    prediction_wa = pd.DataFrame(prediction_wa, index=unlabeled_scaled_wa.index)\n",
    "\n",
    "    \n",
    "    print('> Creating submission for Wilderness_Area{}'.format(wa))\n",
    "\n",
    "    predictions = prediction_wa.sort_index()\n",
    "    predictions.to_csv('submission_wa_model3{}.csv'.format(wa), header=['Cover_Type'], index=True, index_label='Id')\n",
    "\n",
    "    print('> Done !')\n",
    "    \n",
    "\n"
   ]
  },
  {
   "cell_type": "markdown",
   "metadata": {},
   "source": [
    "## Read Data"
   ]
  },
  {
   "cell_type": "code",
   "execution_count": 11,
   "metadata": {},
   "outputs": [
    {
     "name": "stdout",
     "output_type": "stream",
     "text": [
      "Wrote submission to disk.\n"
     ]
    }
   ],
   "source": [
    "wa1 = pd.read_csv('submission_wa_model31.csv')\n",
    "wa2 = pd.read_csv('submission_wa_model32.csv')\n",
    "wa3 = pd.read_csv('submission_wa_model33.csv')\n",
    "wa4 = pd.read_csv('submission_wa_model34.csv')\n",
    "\n",
    "was = [wa1,wa2,wa3,wa4]\n",
    "\n",
    "final_pred = pd.concat([wa1,wa2,wa3,wa4])\n",
    "final_pred = final_pred.sort_values(by='Id')\n",
    "final_pred = final_pred.astype('int')\n",
    "\n",
    "\n",
    "# write final predictions to disk\n",
    "final_pred.to_csv('final_submission_Oct11_model3.csv', header=['Id','Cover_Type'], index=False)\n",
    "print('Wrote submission to disk.')"
   ]
  },
  {
   "cell_type": "code",
   "execution_count": 12,
   "metadata": {},
   "outputs": [
    {
     "data": {
      "text/html": [
       "<div>\n",
       "<style scoped>\n",
       "    .dataframe tbody tr th:only-of-type {\n",
       "        vertical-align: middle;\n",
       "    }\n",
       "\n",
       "    .dataframe tbody tr th {\n",
       "        vertical-align: top;\n",
       "    }\n",
       "\n",
       "    .dataframe thead th {\n",
       "        text-align: right;\n",
       "    }\n",
       "</style>\n",
       "<table border=\"1\" class=\"dataframe\">\n",
       "  <thead>\n",
       "    <tr style=\"text-align: right;\">\n",
       "      <th></th>\n",
       "      <th>Id</th>\n",
       "      <th>Cover_Type</th>\n",
       "    </tr>\n",
       "  </thead>\n",
       "  <tbody>\n",
       "    <tr>\n",
       "      <td>0</td>\n",
       "      <td>15121</td>\n",
       "      <td>1</td>\n",
       "    </tr>\n",
       "    <tr>\n",
       "      <td>1</td>\n",
       "      <td>15122</td>\n",
       "      <td>1</td>\n",
       "    </tr>\n",
       "    <tr>\n",
       "      <td>2</td>\n",
       "      <td>15123</td>\n",
       "      <td>1</td>\n",
       "    </tr>\n",
       "    <tr>\n",
       "      <td>3</td>\n",
       "      <td>15124</td>\n",
       "      <td>1</td>\n",
       "    </tr>\n",
       "    <tr>\n",
       "      <td>4</td>\n",
       "      <td>15125</td>\n",
       "      <td>1</td>\n",
       "    </tr>\n",
       "  </tbody>\n",
       "</table>\n",
       "</div>"
      ],
      "text/plain": [
       "      Id  Cover_Type\n",
       "0  15121           1\n",
       "1  15122           1\n",
       "2  15123           1\n",
       "3  15124           1\n",
       "4  15125           1"
      ]
     },
     "execution_count": 12,
     "metadata": {},
     "output_type": "execute_result"
    }
   ],
   "source": [
    "final_pred.head()"
   ]
  },
  {
   "cell_type": "code",
   "execution_count": 13,
   "metadata": {},
   "outputs": [
    {
     "data": {
      "text/html": [
       "<div>\n",
       "<style scoped>\n",
       "    .dataframe tbody tr th:only-of-type {\n",
       "        vertical-align: middle;\n",
       "    }\n",
       "\n",
       "    .dataframe tbody tr th {\n",
       "        vertical-align: top;\n",
       "    }\n",
       "\n",
       "    .dataframe thead th {\n",
       "        text-align: right;\n",
       "    }\n",
       "</style>\n",
       "<table border=\"1\" class=\"dataframe\">\n",
       "  <thead>\n",
       "    <tr style=\"text-align: right;\">\n",
       "      <th></th>\n",
       "      <th>Elevation</th>\n",
       "      <th>Aspect</th>\n",
       "      <th>Slope</th>\n",
       "      <th>Horizontal_Distance_To_Hydrology</th>\n",
       "      <th>Vertical_Distance_To_Hydrology</th>\n",
       "      <th>Horizontal_Distance_To_Roadways</th>\n",
       "      <th>Hillshade_9am</th>\n",
       "      <th>Hillshade_Noon</th>\n",
       "      <th>Hillshade_3pm</th>\n",
       "      <th>Horizontal_Distance_To_Fire_Points</th>\n",
       "      <th>...</th>\n",
       "      <th>Temp_9am</th>\n",
       "      <th>Temp_Noon</th>\n",
       "      <th>Temp_3pm</th>\n",
       "      <th>Elev_Vhydro_diff</th>\n",
       "      <th>Hhydro_Fire_sum</th>\n",
       "      <th>Hhydro_Fire_diff</th>\n",
       "      <th>Hhydro_Road_sum</th>\n",
       "      <th>Hhydro_Road_diff</th>\n",
       "      <th>Road_Fire_sum</th>\n",
       "      <th>Road_Fire_diff</th>\n",
       "    </tr>\n",
       "  </thead>\n",
       "  <tbody>\n",
       "    <tr>\n",
       "      <td>15116</td>\n",
       "      <td>2607.0</td>\n",
       "      <td>243.0</td>\n",
       "      <td>23.0</td>\n",
       "      <td>258.0</td>\n",
       "      <td>7.0</td>\n",
       "      <td>660.0</td>\n",
       "      <td>170.0</td>\n",
       "      <td>251.0</td>\n",
       "      <td>214.0</td>\n",
       "      <td>1282.0</td>\n",
       "      <td>...</td>\n",
       "      <td>95.707276</td>\n",
       "      <td>588.594253</td>\n",
       "      <td>404.675396</td>\n",
       "      <td>2600.0</td>\n",
       "      <td>1540.0</td>\n",
       "      <td>1024.0</td>\n",
       "      <td>918.0</td>\n",
       "      <td>402.0</td>\n",
       "      <td>1942.0</td>\n",
       "      <td>622.0</td>\n",
       "    </tr>\n",
       "    <tr>\n",
       "      <td>15117</td>\n",
       "      <td>2603.0</td>\n",
       "      <td>121.0</td>\n",
       "      <td>19.0</td>\n",
       "      <td>633.0</td>\n",
       "      <td>195.0</td>\n",
       "      <td>618.0</td>\n",
       "      <td>249.0</td>\n",
       "      <td>221.0</td>\n",
       "      <td>91.0</td>\n",
       "      <td>1325.0</td>\n",
       "      <td>...</td>\n",
       "      <td>590.679139</td>\n",
       "      <td>145.389441</td>\n",
       "      <td>12.997776</td>\n",
       "      <td>2408.0</td>\n",
       "      <td>1958.0</td>\n",
       "      <td>692.0</td>\n",
       "      <td>1251.0</td>\n",
       "      <td>15.0</td>\n",
       "      <td>1943.0</td>\n",
       "      <td>707.0</td>\n",
       "    </tr>\n",
       "    <tr>\n",
       "      <td>15118</td>\n",
       "      <td>2492.0</td>\n",
       "      <td>134.0</td>\n",
       "      <td>25.0</td>\n",
       "      <td>365.0</td>\n",
       "      <td>117.0</td>\n",
       "      <td>335.0</td>\n",
       "      <td>250.0</td>\n",
       "      <td>220.0</td>\n",
       "      <td>83.0</td>\n",
       "      <td>1187.0</td>\n",
       "      <td>...</td>\n",
       "      <td>603.499543</td>\n",
       "      <td>214.570085</td>\n",
       "      <td>23.294797</td>\n",
       "      <td>2375.0</td>\n",
       "      <td>1552.0</td>\n",
       "      <td>822.0</td>\n",
       "      <td>700.0</td>\n",
       "      <td>30.0</td>\n",
       "      <td>1522.0</td>\n",
       "      <td>852.0</td>\n",
       "    </tr>\n",
       "    <tr>\n",
       "      <td>15119</td>\n",
       "      <td>2487.0</td>\n",
       "      <td>167.0</td>\n",
       "      <td>28.0</td>\n",
       "      <td>218.0</td>\n",
       "      <td>101.0</td>\n",
       "      <td>242.0</td>\n",
       "      <td>229.0</td>\n",
       "      <td>237.0</td>\n",
       "      <td>119.0</td>\n",
       "      <td>932.0</td>\n",
       "      <td>...</td>\n",
       "      <td>503.644536</td>\n",
       "      <td>414.612305</td>\n",
       "      <td>92.230825</td>\n",
       "      <td>2386.0</td>\n",
       "      <td>1150.0</td>\n",
       "      <td>714.0</td>\n",
       "      <td>460.0</td>\n",
       "      <td>24.0</td>\n",
       "      <td>1174.0</td>\n",
       "      <td>690.0</td>\n",
       "    </tr>\n",
       "    <tr>\n",
       "      <td>15120</td>\n",
       "      <td>2475.0</td>\n",
       "      <td>197.0</td>\n",
       "      <td>34.0</td>\n",
       "      <td>319.0</td>\n",
       "      <td>78.0</td>\n",
       "      <td>270.0</td>\n",
       "      <td>189.0</td>\n",
       "      <td>244.0</td>\n",
       "      <td>164.0</td>\n",
       "      <td>914.0</td>\n",
       "      <td>...</td>\n",
       "      <td>314.483347</td>\n",
       "      <td>548.677056</td>\n",
       "      <td>211.948960</td>\n",
       "      <td>2397.0</td>\n",
       "      <td>1233.0</td>\n",
       "      <td>595.0</td>\n",
       "      <td>589.0</td>\n",
       "      <td>49.0</td>\n",
       "      <td>1184.0</td>\n",
       "      <td>644.0</td>\n",
       "    </tr>\n",
       "  </tbody>\n",
       "</table>\n",
       "<p>5 rows × 84 columns</p>\n",
       "</div>"
      ],
      "text/plain": [
       "       Elevation  Aspect  Slope  Horizontal_Distance_To_Hydrology  \\\n",
       "15116     2607.0   243.0   23.0                             258.0   \n",
       "15117     2603.0   121.0   19.0                             633.0   \n",
       "15118     2492.0   134.0   25.0                             365.0   \n",
       "15119     2487.0   167.0   28.0                             218.0   \n",
       "15120     2475.0   197.0   34.0                             319.0   \n",
       "\n",
       "       Vertical_Distance_To_Hydrology  Horizontal_Distance_To_Roadways  \\\n",
       "15116                             7.0                            660.0   \n",
       "15117                           195.0                            618.0   \n",
       "15118                           117.0                            335.0   \n",
       "15119                           101.0                            242.0   \n",
       "15120                            78.0                            270.0   \n",
       "\n",
       "       Hillshade_9am  Hillshade_Noon  Hillshade_3pm  \\\n",
       "15116          170.0           251.0          214.0   \n",
       "15117          249.0           221.0           91.0   \n",
       "15118          250.0           220.0           83.0   \n",
       "15119          229.0           237.0          119.0   \n",
       "15120          189.0           244.0          164.0   \n",
       "\n",
       "       Horizontal_Distance_To_Fire_Points  ...    Temp_9am   Temp_Noon  \\\n",
       "15116                              1282.0  ...   95.707276  588.594253   \n",
       "15117                              1325.0  ...  590.679139  145.389441   \n",
       "15118                              1187.0  ...  603.499543  214.570085   \n",
       "15119                               932.0  ...  503.644536  414.612305   \n",
       "15120                               914.0  ...  314.483347  548.677056   \n",
       "\n",
       "         Temp_3pm  Elev_Vhydro_diff  Hhydro_Fire_sum  Hhydro_Fire_diff  \\\n",
       "15116  404.675396            2600.0           1540.0            1024.0   \n",
       "15117   12.997776            2408.0           1958.0             692.0   \n",
       "15118   23.294797            2375.0           1552.0             822.0   \n",
       "15119   92.230825            2386.0           1150.0             714.0   \n",
       "15120  211.948960            2397.0           1233.0             595.0   \n",
       "\n",
       "       Hhydro_Road_sum  Hhydro_Road_diff  Road_Fire_sum  Road_Fire_diff  \n",
       "15116            918.0             402.0         1942.0           622.0  \n",
       "15117           1251.0              15.0         1943.0           707.0  \n",
       "15118            700.0              30.0         1522.0           852.0  \n",
       "15119            460.0              24.0         1174.0           690.0  \n",
       "15120            589.0              49.0         1184.0           644.0  \n",
       "\n",
       "[5 rows x 84 columns]"
      ]
     },
     "execution_count": 13,
     "metadata": {},
     "output_type": "execute_result"
    }
   ],
   "source": [
    "# Read labeled data \"train\"\n",
    "labeled_data = pd.read_csv('train_Oct11_Step1.csv', dtype = 'float')\n",
    "labeled_data.index = labeled_data.index + 1\n",
    "labeled_data.drop('Id',axis=1,inplace=True)\n",
    "labels = labeled_data.Cover_Type\n",
    "labeled_data.tail()"
   ]
  },
  {
   "cell_type": "code",
   "execution_count": 14,
   "metadata": {},
   "outputs": [
    {
     "data": {
      "text/html": [
       "<div>\n",
       "<style scoped>\n",
       "    .dataframe tbody tr th:only-of-type {\n",
       "        vertical-align: middle;\n",
       "    }\n",
       "\n",
       "    .dataframe tbody tr th {\n",
       "        vertical-align: top;\n",
       "    }\n",
       "\n",
       "    .dataframe thead th {\n",
       "        text-align: right;\n",
       "    }\n",
       "</style>\n",
       "<table border=\"1\" class=\"dataframe\">\n",
       "  <thead>\n",
       "    <tr style=\"text-align: right;\">\n",
       "      <th></th>\n",
       "      <th>Elevation</th>\n",
       "      <th>Aspect</th>\n",
       "      <th>Slope</th>\n",
       "      <th>Horizontal_Distance_To_Hydrology</th>\n",
       "      <th>Vertical_Distance_To_Hydrology</th>\n",
       "      <th>Horizontal_Distance_To_Roadways</th>\n",
       "      <th>Hillshade_9am</th>\n",
       "      <th>Hillshade_Noon</th>\n",
       "      <th>Hillshade_3pm</th>\n",
       "      <th>Horizontal_Distance_To_Fire_Points</th>\n",
       "      <th>...</th>\n",
       "      <th>Temp_9am</th>\n",
       "      <th>Temp_Noon</th>\n",
       "      <th>Temp_3pm</th>\n",
       "      <th>Elev_Vhydro_diff</th>\n",
       "      <th>Hhydro_Fire_sum</th>\n",
       "      <th>Hhydro_Fire_diff</th>\n",
       "      <th>Hhydro_Road_sum</th>\n",
       "      <th>Hhydro_Road_diff</th>\n",
       "      <th>Road_Fire_sum</th>\n",
       "      <th>Road_Fire_diff</th>\n",
       "    </tr>\n",
       "  </thead>\n",
       "  <tbody>\n",
       "    <tr>\n",
       "      <td>15121</td>\n",
       "      <td>2680.0</td>\n",
       "      <td>354.0</td>\n",
       "      <td>14.0</td>\n",
       "      <td>0.0</td>\n",
       "      <td>0.0</td>\n",
       "      <td>2684.0</td>\n",
       "      <td>196.0</td>\n",
       "      <td>214.0</td>\n",
       "      <td>156.0</td>\n",
       "      <td>6645.0</td>\n",
       "      <td>...</td>\n",
       "      <td>-1.941387e+01</td>\n",
       "      <td>23.541406</td>\n",
       "      <td>172.306440</td>\n",
       "      <td>2680.0</td>\n",
       "      <td>6645.0</td>\n",
       "      <td>6645.0</td>\n",
       "      <td>2684.0</td>\n",
       "      <td>2684.0</td>\n",
       "      <td>NaN</td>\n",
       "      <td>3961.0</td>\n",
       "    </tr>\n",
       "    <tr>\n",
       "      <td>15122</td>\n",
       "      <td>2683.0</td>\n",
       "      <td>0.0</td>\n",
       "      <td>13.0</td>\n",
       "      <td>0.0</td>\n",
       "      <td>0.0</td>\n",
       "      <td>2654.0</td>\n",
       "      <td>201.0</td>\n",
       "      <td>216.0</td>\n",
       "      <td>152.0</td>\n",
       "      <td>6675.0</td>\n",
       "      <td>...</td>\n",
       "      <td>1.230770e-14</td>\n",
       "      <td>0.000000</td>\n",
       "      <td>152.000000</td>\n",
       "      <td>2683.0</td>\n",
       "      <td>6675.0</td>\n",
       "      <td>6675.0</td>\n",
       "      <td>2654.0</td>\n",
       "      <td>2654.0</td>\n",
       "      <td>NaN</td>\n",
       "      <td>4021.0</td>\n",
       "    </tr>\n",
       "    <tr>\n",
       "      <td>15123</td>\n",
       "      <td>2713.0</td>\n",
       "      <td>16.0</td>\n",
       "      <td>15.0</td>\n",
       "      <td>0.0</td>\n",
       "      <td>0.0</td>\n",
       "      <td>2980.0</td>\n",
       "      <td>206.0</td>\n",
       "      <td>208.0</td>\n",
       "      <td>137.0</td>\n",
       "      <td>6344.0</td>\n",
       "      <td>...</td>\n",
       "      <td>6.476139e+01</td>\n",
       "      <td>-49.275003</td>\n",
       "      <td>99.237682</td>\n",
       "      <td>2713.0</td>\n",
       "      <td>6344.0</td>\n",
       "      <td>6344.0</td>\n",
       "      <td>2980.0</td>\n",
       "      <td>2980.0</td>\n",
       "      <td>NaN</td>\n",
       "      <td>3364.0</td>\n",
       "    </tr>\n",
       "    <tr>\n",
       "      <td>15124</td>\n",
       "      <td>2709.0</td>\n",
       "      <td>24.0</td>\n",
       "      <td>17.0</td>\n",
       "      <td>0.0</td>\n",
       "      <td>0.0</td>\n",
       "      <td>2950.0</td>\n",
       "      <td>208.0</td>\n",
       "      <td>201.0</td>\n",
       "      <td>125.0</td>\n",
       "      <td>6374.0</td>\n",
       "      <td>...</td>\n",
       "      <td>1.025838e+02</td>\n",
       "      <td>-64.376702</td>\n",
       "      <td>74.157920</td>\n",
       "      <td>2709.0</td>\n",
       "      <td>6374.0</td>\n",
       "      <td>6374.0</td>\n",
       "      <td>2950.0</td>\n",
       "      <td>2950.0</td>\n",
       "      <td>NaN</td>\n",
       "      <td>3424.0</td>\n",
       "    </tr>\n",
       "    <tr>\n",
       "      <td>15125</td>\n",
       "      <td>2706.0</td>\n",
       "      <td>29.0</td>\n",
       "      <td>19.0</td>\n",
       "      <td>0.0</td>\n",
       "      <td>0.0</td>\n",
       "      <td>2920.0</td>\n",
       "      <td>210.0</td>\n",
       "      <td>195.0</td>\n",
       "      <td>115.0</td>\n",
       "      <td>6404.0</td>\n",
       "      <td>...</td>\n",
       "      <td>1.281399e+02</td>\n",
       "      <td>-70.088719</td>\n",
       "      <td>59.246894</td>\n",
       "      <td>2706.0</td>\n",
       "      <td>6404.0</td>\n",
       "      <td>6404.0</td>\n",
       "      <td>2920.0</td>\n",
       "      <td>2920.0</td>\n",
       "      <td>NaN</td>\n",
       "      <td>3484.0</td>\n",
       "    </tr>\n",
       "  </tbody>\n",
       "</table>\n",
       "<p>5 rows × 83 columns</p>\n",
       "</div>"
      ],
      "text/plain": [
       "       Elevation  Aspect  Slope  Horizontal_Distance_To_Hydrology  \\\n",
       "15121     2680.0   354.0   14.0                               0.0   \n",
       "15122     2683.0     0.0   13.0                               0.0   \n",
       "15123     2713.0    16.0   15.0                               0.0   \n",
       "15124     2709.0    24.0   17.0                               0.0   \n",
       "15125     2706.0    29.0   19.0                               0.0   \n",
       "\n",
       "       Vertical_Distance_To_Hydrology  Horizontal_Distance_To_Roadways  \\\n",
       "15121                             0.0                           2684.0   \n",
       "15122                             0.0                           2654.0   \n",
       "15123                             0.0                           2980.0   \n",
       "15124                             0.0                           2950.0   \n",
       "15125                             0.0                           2920.0   \n",
       "\n",
       "       Hillshade_9am  Hillshade_Noon  Hillshade_3pm  \\\n",
       "15121          196.0           214.0          156.0   \n",
       "15122          201.0           216.0          152.0   \n",
       "15123          206.0           208.0          137.0   \n",
       "15124          208.0           201.0          125.0   \n",
       "15125          210.0           195.0          115.0   \n",
       "\n",
       "       Horizontal_Distance_To_Fire_Points  ...      Temp_9am  Temp_Noon  \\\n",
       "15121                              6645.0  ... -1.941387e+01  23.541406   \n",
       "15122                              6675.0  ...  1.230770e-14   0.000000   \n",
       "15123                              6344.0  ...  6.476139e+01 -49.275003   \n",
       "15124                              6374.0  ...  1.025838e+02 -64.376702   \n",
       "15125                              6404.0  ...  1.281399e+02 -70.088719   \n",
       "\n",
       "         Temp_3pm  Elev_Vhydro_diff  Hhydro_Fire_sum  Hhydro_Fire_diff  \\\n",
       "15121  172.306440            2680.0           6645.0            6645.0   \n",
       "15122  152.000000            2683.0           6675.0            6675.0   \n",
       "15123   99.237682            2713.0           6344.0            6344.0   \n",
       "15124   74.157920            2709.0           6374.0            6374.0   \n",
       "15125   59.246894            2706.0           6404.0            6404.0   \n",
       "\n",
       "       Hhydro_Road_sum  Hhydro_Road_diff  Road_Fire_sum  Road_Fire_diff  \n",
       "15121           2684.0            2684.0            NaN          3961.0  \n",
       "15122           2654.0            2654.0            NaN          4021.0  \n",
       "15123           2980.0            2980.0            NaN          3364.0  \n",
       "15124           2950.0            2950.0            NaN          3424.0  \n",
       "15125           2920.0            2920.0            NaN          3484.0  \n",
       "\n",
       "[5 rows x 83 columns]"
      ]
     },
     "execution_count": 14,
     "metadata": {},
     "output_type": "execute_result"
    }
   ],
   "source": [
    "# Read unlabeled data \"test\"\n",
    "unlabeled_data = pd.read_csv('test_Oct11_Step1.csv', dtype = 'float')\n",
    "unlabeled_data.index = unlabeled_data.index + 15121\n",
    "unlabeled_data.drop('Id',axis=1,inplace=True)\n",
    "unlabeled_data.head()"
   ]
  },
  {
   "cell_type": "code",
   "execution_count": 15,
   "metadata": {},
   "outputs": [
    {
     "data": {
      "text/plain": [
       "<matplotlib.collections.PathCollection at 0x129a91b70>"
      ]
     },
     "execution_count": 15,
     "metadata": {},
     "output_type": "execute_result"
    },
    {
     "data": {
      "image/png": "[encoded data removed]",
      "text/plain": [
       "<Figure size 432x288 with 1 Axes>"
      ]
     },
     "metadata": {
      "needs_background": "light"
     },
     "output_type": "display_data"
    }
   ],
   "source": [
    "plt.scatter(labeled_data.Cover_Type, labeled_data.Elevation, c=labeled_data.Cover_Type)"
   ]
  },
  {
   "cell_type": "code",
   "execution_count": 16,
   "metadata": {},
   "outputs": [
    {
     "data": {
      "text/plain": [
       "<matplotlib.collections.PathCollection at 0x129961320>"
      ]
     },
     "execution_count": 16,
     "metadata": {},
     "output_type": "execute_result"
    },
    {
     "data": {
      "image/png": "[encoded data removed]",
      "text/plain": [
       "<Figure size 432x288 with 1 Axes>"
      ]
     },
     "metadata": {
      "needs_background": "light"
     },
     "output_type": "display_data"
    }
   ],
   "source": [
    "plt.scatter(final_pred.Cover_Type, unlabeled_data.Elevation, c=final_pred.Cover_Type)"
   ]
  },
  {
   "cell_type": "code",
   "execution_count": 25,
   "metadata": {},
   "outputs": [
    {
     "name": "stdout",
     "output_type": "stream",
     "text": [
      "Krummholz  :  (5449, 2479, 18524, 0)\n",
      "Spruce/Fir :  (121457, 25235, 108793, 0)\n",
      "Lodgepole  :  (122577, 1671, 76523, 64)\n",
      "Aspen      :  (7716, 0, 12180, 0)\n",
      "Douglas    :  (0, 0, 14003, 9643)\n",
      "Ponderosa  :  (0, 0, 16992, 20327)\n",
      "Willow     :  (0, 0, 0, 2259)\n"
     ]
    },
    {
     "data": {
      "image/png": "[encoded data removed]",
      "text/plain": [
       "<Figure size 864x576 with 1 Axes>"
      ]
     },
     "metadata": {
      "needs_background": "light"
     },
     "output_type": "display_data"
    },
    {
     "name": "stderr",
     "output_type": "stream",
     "text": [
      "No handles with labels found to put in legend.\n"
     ]
    }
   ],
   "source": [
    "width = 0.20\n",
    "labels = ['Wilderness_Area1','Wilderness_Area2', 'Wilderness_Area3', 'Wilderness_Area4']\n",
    "\n",
    "x = np.arange(len(labels))\n",
    "\n",
    "N = 4\n",
    "\n",
    "ind = np.arange(N)\n",
    "\n",
    "\n",
    "ct1 = (len(wa1[wa1.Cover_Type==1]), len(wa2[wa2.Cover_Type==1]), len(wa3[wa3.Cover_Type==1]), len(wa4[wa4.Cover_Type==1]))\n",
    "ct2 = (len(wa1[wa1.Cover_Type==2]), len(wa2[wa2.Cover_Type==2]), len(wa3[wa3.Cover_Type==2]), len(wa4[wa4.Cover_Type==2]))\n",
    "ct3 = (len(wa1[wa1.Cover_Type==3]), len(wa2[wa2.Cover_Type==3]), len(wa3[wa3.Cover_Type==3]), len(wa4[wa4.Cover_Type==3]))\n",
    "ct4 = (len(wa1[wa1.Cover_Type==4]), len(wa2[wa2.Cover_Type==4]), len(wa3[wa3.Cover_Type==4]), len(wa4[wa4.Cover_Type==4]))                                                                       \n",
    "ct5 = (len(wa1[wa1.Cover_Type==5]), len(wa2[wa2.Cover_Type==5]), len(wa3[wa3.Cover_Type==5]), len(wa4[wa4.Cover_Type==5]))\n",
    "ct6 = (len(wa1[wa1.Cover_Type==6]), len(wa2[wa2.Cover_Type==6]), len(wa3[wa3.Cover_Type==6]), len(wa4[wa4.Cover_Type==6]))\n",
    "ct7 = (len(wa1[wa1.Cover_Type==7]), len(wa2[wa2.Cover_Type==7]), len(wa3[wa3.Cover_Type==7]), len(wa4[wa4.Cover_Type==7]))\n",
    "width = 0.35       # the width of the bars: can also be len(x) sequence\n",
    "\n",
    "\n",
    "\n",
    "print('Krummholz  : ', ct7)\n",
    "print('Spruce/Fir : ', ct1)\n",
    "print('Lodgepole  : ', ct2)\n",
    "print('Aspen      : ', ct5)\n",
    "print('Douglas    : ', ct6)\n",
    "print('Ponderosa  : ', ct3)\n",
    "print('Willow     : ', ct4)\n",
    "\n",
    "#fig, ax = plt.subplots(figsize=(10,5))\n",
    "#rects1 = ax.bar(x - width/2,ct4, width, label='Train Set', color= 'green', alpha=0.4)\n",
    "#rects2 = ax.bar(x + width/2, [45,5,44,6], width, label='Test Set', color= 'blue', alpha=0.4)\n",
    "\n",
    "fig, ax = plt.subplots(figsize=(12,8))\n",
    "\n",
    "p4 = ax.bar(ind, ct4, width, alpha=0.6)\n",
    "p3 = ax.bar(ind, ct3, width, bottom = ct4, alpha=0.6)\n",
    "p6 = ax.bar(ind, ct6, width, bottom = [sum(x) for x in zip(ct3,ct4)], alpha=0.6)\n",
    "p5 = ax.bar(ind, ct5, width, bottom = [sum(x) for x in zip(ct3,ct4,ct6)],alpha=0.6)\n",
    "p2 = ax.bar(ind, ct2, width, bottom = [sum(x) for x in zip(ct3,ct4,ct6,ct5)], alpha = 0.6)     \n",
    "p1 = ax.bar(ind, ct1, width, bottom = [sum(x) for x in zip(ct3,ct4,ct6,ct5,ct2)], alpha = 0.6)\n",
    "p7 = ax.bar(ind, ct7, width, bottom = [sum(x) for x in zip(ct3,ct4,ct6,ct5,ct2,ct1)],  alpha = 0.6)\n",
    "\n",
    "plt.ylabel('Cover Type Number')\n",
    "plt.title('Cover Type by Wilderness Area')\n",
    "plt.xticks(ind, ('Wilderness_Area1','Wilderness_Area2', 'Wilderness_Area3', 'Wilderness_Area4'))\n",
    "plt.yticks(np.arange(0,500000,100000))\n",
    "\n",
    "plt.legend((p4[0], p3[0], p6[0],p5[0],p2[0],p1[0],p7[0]), ('Willow','Ponderosa','Douglas','Aspen','Lodgepole','Spruce/Fir','Krummholz'))\n",
    "\n",
    "plt.show()\n",
    "\n",
    "\n",
    "# Add some text for labels, title and custom x-axis tick labels, etc.\n",
    "ax.set_ylabel('Percent of Records')\n",
    "ax.set_title('Distribution of Records per Wilderness Area')\n",
    "ax.set_xticks(x)\n",
    "ax.set_xticklabels(labels)\n",
    "ax.legend()\n",
    "\n",
    "\n",
    "def autolabel(rects):\n",
    "    \"\"\"Attach a text label above each bar in *rects*, displaying its height.\"\"\"\n",
    "    for rect in rects:\n",
    "        height = rect.get_height()\n",
    "        ax.annotate('{}'.format(height),\n",
    "                    xy=(rect.get_x() + rect.get_width() / 2, height),\n",
    "                    xytext=(0, 3),  # 3 points vertical offset\n",
    "                    textcoords=\"offset points\",\n",
    "                    ha='center', va='bottom')\n",
    "\n",
    "\n",
    "autolabel(rects1)\n",
    "autolabel(rects2)\n",
    "\n",
    "fig.tight_layout()\n",
    "\n",
    "plt.show()"
   ]
  },
  {
   "cell_type": "markdown",
   "metadata": {},
   "source": [
    "## Future Work"
   ]
  },
  {
   "cell_type": "markdown",
   "metadata": {},
   "source": [
    "There is potential to improve the model by:\n",
    "> Dropping more variables. The model is overfitting\n",
    "\n",
    "> Tuning hyperparameters.\n",
    "\n",
    "> Try other classifiers / ensembles / stacking orders"
   ]
  },
  {
   "cell_type": "markdown",
   "metadata": {},
   "source": [
    "### Determining Optimal Tree Parameters"
   ]
  },
  {
   "cell_type": "code",
   "execution_count": null,
   "metadata": {},
   "outputs": [],
   "source": [
    "# Identify the optimal tree depth for given data\n",
    "\n",
    "def optimal_tree_depth(X_train,X_test,y_train,y_test):\n",
    "    \n",
    "    \n",
    "    import xgboost as xgb\n",
    "    from sklearn.metrics import accuracy_score\n",
    "    plt.style.use('seaborn')\n",
    "    \n",
    "    max_depths = np.linspace(1, 32, 32, endpoint=True)\n",
    "    train_results = []\n",
    "    test_results = []\n",
    "    for max_depth in max_depths:\n",
    "       dt = xgb.XGBClassifier(criterion='entropy', max_depth=int(max_depth))\n",
    "       dt.fit(X_train, y_train)\n",
    "       train_pred = dt.predict(X_train)\n",
    "       acc_score = accuracy_score(y_train, train_pred)\n",
    "       # Add auc score to previous train results\n",
    "       train_results.append(acc_score)\n",
    "       y_pred = dt.predict(X_test)\n",
    "       acc_score = accuracy_score(y_test, y_pred)\n",
    "       # Add auc score to previous test results\n",
    "       test_results.append(acc_score)\n",
    "    plt.figure(figsize=(12,6))\n",
    "    plt.plot(max_depths, train_results, 'b', label='Train Accuracy')\n",
    "    plt.plot(max_depths, test_results, 'r', label='Test Accuracy')\n",
    "    plt.ylabel('Accuracy score')\n",
    "    plt.xlabel('Tree depth')\n",
    "    plt.legend()\n",
    "    plt.show()"
   ]
  },
  {
   "cell_type": "code",
   "execution_count": null,
   "metadata": {},
   "outputs": [],
   "source": [
    "# Identify the optimal min-samples-split for given data\n",
    "\n",
    "def optimal_tree_minsamples(X_train,X_test,y_train,y_test):\n",
    "    \n",
    "    import xgboost as xgb\n",
    "    from sklearn.metrics import accuracy_score\n",
    "    plt.style.use('seaborn')\n",
    "    \n",
    "    min_samples_splits = np.linspace(0.1, 1.0, 10, endpoint=True)\n",
    "    train_results = []\n",
    "    test_results = []\n",
    "    for min_samples_split in min_samples_splits:\n",
    "       dt = xgb.XGBClassifier(criterion='entropy', min_samples_split=min_samples_split)\n",
    "       dt.fit(X_train, y_train)\n",
    "       train_pred = dt.predict(X_train)\n",
    "       acc_score = accuracy_score(y_train, train_pred)\n",
    "       # Add auc score to previous train results\n",
    "       train_results.append(acc_score)\n",
    "       y_pred = dt.predict(X_test)\n",
    "       acc_score = accuracy_score(y_test, y_pred)\n",
    "       # Add auc score to previous test results\n",
    "       test_results.append(acc_score)\n",
    "    plt.figure(figsize=(12,6))\n",
    "    plt.plot(min_samples_splits, train_results, 'b', label='Train Accuracy')\n",
    "    plt.plot(min_samples_splits, test_results, 'r', label='Test Accuracy')\n",
    "    plt.ylabel('Accuracy score')\n",
    "    plt.xlabel('Min. Sample splits')\n",
    "    plt.legend()\n",
    "    plt.show()"
   ]
  },
  {
   "cell_type": "code",
   "execution_count": null,
   "metadata": {},
   "outputs": [],
   "source": [
    "# Calculate the optimal value for minimum sample leafs\n",
    "def optimal_sample_leafs(X_train,X_test,y_train,y_test):\n",
    "    \n",
    "    import xgboost as xgb\n",
    "    from sklearn.metrics import accuracy_score\n",
    "    plt.style.use('seaborn')\n",
    "    \n",
    "    min_samples_leafs = np.linspace(0.1, 0.5, 10, endpoint=True)\n",
    "    train_results = []\n",
    "    test_results = []\n",
    "    for min_samples_leaf in min_samples_leafs:\n",
    "       dt = xgb.XGBClassifier(criterion='entropy', min_samples_leaf=min_samples_leaf)\n",
    "       dt.fit(X_train, y_train)\n",
    "       train_pred = dt.predict(X_train)\n",
    "       acc_score = accuracy_score(y_train, train_pred)\n",
    "       # Add auc score to previous train results\n",
    "       train_results.append(acc_score)\n",
    "       y_pred = dt.predict(X_test)\n",
    "       acc_score = accuracy_score(y_test, y_pred)\n",
    "       # Add auc score to previous test results\n",
    "       test_results.append(acc_score)\n",
    "    plt.figure(figsize=(12,6))\n",
    "    plt.plot(min_samples_leafs, train_results, 'b', label='Train Accuracy')\n",
    "    plt.plot(min_samples_leafs, test_results, 'r', label='Test Accuracy')\n",
    "    plt.ylabel('Accuracy score')\n",
    "    plt.xlabel('Min. Sample Leafs')\n",
    "    plt.legend()\n",
    "    plt.show()    "
   ]
  },
  {
   "cell_type": "code",
   "execution_count": null,
   "metadata": {},
   "outputs": [],
   "source": [
    "# Find the best value for optimal maximum feature size\n",
    "\n",
    "def optimal_max_features(X_train,X_test,y_train,y_test):\n",
    "    \n",
    "    import xgboost as xgb\n",
    "    from sklearn.metrics import accuracy_score\n",
    "    plt.style.use('seaborn')\n",
    "    \n",
    "    max_features = list(range(1,X_train.shape[1]))\n",
    "    train_results = []\n",
    "    test_results = []\n",
    "    for max_feature in max_features:\n",
    "       dt = xgb.XGBClassifier(criterion='entropy', max_features=max_feature)\n",
    "       dt.fit(X_train, y_train)\n",
    "       train_pred = dt.predict(X_train)\n",
    "       acc_score = accuracy_score(y_train, train_pred)\n",
    "       # Add auc score to previous train results\n",
    "       train_results.append(acc_score)\n",
    "       y_pred = dt.predict(X_test)\n",
    "       acc_score = accuracy_score(y_test, y_pred)\n",
    "       # Add auc score to previous test results\n",
    "       test_results.append(acc_score)\n",
    "    plt.figure(figsize=(12,6))\n",
    "    plt.plot(max_features, train_results, 'b', label='Train Accuracy')\n",
    "    plt.plot(max_features, test_results, 'r', label='Test Accuracy')\n",
    "    plt.ylabel('Accuracy score')\n",
    "    plt.xlabel('max features')\n",
    "    plt.plot(max_features, test_results, 'r', label='Test AUC')\n",
    "\n",
    "    plt.legend()\n",
    "    plt.show()    \n",
    "    \n",
    " "
   ]
  },
  {
   "cell_type": "code",
   "execution_count": null,
   "metadata": {},
   "outputs": [],
   "source": [
    "def optimal_n_estimators(X_train,X_test,y_train,y_test):\n",
    "    \n",
    "    import xgboost as xgb\n",
    "    from sklearn.metrics import accuracy_score\n",
    "    plt.style.use('seaborn')\n",
    "    \n",
    "    train_results = []\n",
    "    test_results = []\n",
    "    estimators = list(range(20,120,10))\n",
    "    \n",
    "    for num in estimators:\n",
    "        clf = xgb.XGBClassifier(n_estimators=num)\n",
    "        clf.fit(X_train, y_train)\n",
    "        train_pred = clf.predict(X_train)\n",
    "        acc_score = accuracy_score(y_train, train_pred)\n",
    "        # Add auc score to previous train results\n",
    "        train_results.append(acc_score)\n",
    "        y_pred = clf.predict(X_test)\n",
    "        acc_score = accuracy_score(y_test, y_pred)\n",
    "        # Add auc score to previous test results\n",
    "        test_results.append(acc_score)\n",
    "    plt.figure(figsize=(12,6))\n",
    "    plt.plot(estimators, train_results, 'b', label='Train Accuracy')\n",
    "    plt.plot(estimators, test_results, 'r', label='Test Accuracy')\n",
    "    plt.ylabel('Accuracy score')\n",
    "    plt.xlabel('N estimators')\n",
    "       \n",
    "    plt.legend()\n",
    "    plt.show()    "
   ]
  },
  {
   "cell_type": "code",
   "execution_count": null,
   "metadata": {},
   "outputs": [],
   "source": [
    "def optimal_learning_rate(X_train,X_test,y_train,y_test):\n",
    "    \n",
    "    import xgboost as xgb\n",
    "    from sklearn.metrics import accuracy_score\n",
    "    plt.style.use('seaborn')\n",
    "    \n",
    "    train_results = []\n",
    "    test_results = []\n",
    "    rates = [0.01,0.02,0.03,0.4,0.05,0.06,0.07,0.8,0.09]\n",
    "    \n",
    "    for num in rates:\n",
    "        clf = xgb.XGBClassifier(learning_rate=num)\n",
    "        clf.fit(X_train, y_train)\n",
    "        train_pred = clf.predict(X_train)\n",
    "        acc_score = accuracy_score(y_train, train_pred)\n",
    "        # Add auc score to previous train results\n",
    "        train_results.append(acc_score)\n",
    "        y_pred = clf.predict(X_test)\n",
    "        acc_score = accuracy_score(y_test, y_pred)\n",
    "        # Add auc score to previous test results\n",
    "        test_results.append(acc_score)\n",
    "    print(test_results,train_results)\n",
    "    plt.figure(figsize=(12,6))\n",
    "    plt.plot(rates, train_results, 'b', label='Train Accuracy')\n",
    "    plt.plot(rates, test_results, 'r', label='Test Accuracy')\n",
    "    plt.ylabel('Accuracy score')\n",
    "    plt.xlabel('Learning Rate')\n",
    "\n",
    "       \n",
    "    plt.legend()\n",
    "    plt.show()    \n"
   ]
  },
  {
   "cell_type": "code",
   "execution_count": null,
   "metadata": {},
   "outputs": [],
   "source": [
    "def optimal_subsample(X_train,X_test,y_train,y_test):\n",
    "\n",
    "    import xgboost as xgb\n",
    "    from sklearn.metrics import accuracy_score\n",
    "    plt.style.use('seaborn')\n",
    "    \n",
    "    train_results = []\n",
    "    test_results = []\n",
    "    \n",
    "    subsamples = [0.10,0.30,0.50,0.70, 0.90]\n",
    "    \n",
    "    for num in subsamples:\n",
    "        clf = xgb.XGBClassifier(subsample = num)\n",
    "        clf.fit(X_train, y_train)\n",
    "        train_pred = clf.predict(X_train)\n",
    "        acc_score = accuracy_score(y_train, train_pred)\n",
    "        # Add auc score to previous train results\n",
    "        train_results.append(acc_score)\n",
    "        y_pred = clf.predict(X_test)\n",
    "        acc_score = accuracy_score(y_test, y_pred)\n",
    "        # Add auc score to previous test results\n",
    "        test_results.append(acc_score)\n",
    "    print(test_results,train_results)\n",
    "    plt.figure(figsize=(12,6))\n",
    "    plt.plot(subsamples, train_results, 'b', label='Train Accuracy')\n",
    "    plt.plot(subsamples, test_results, 'r', label='Test Accuracy')\n",
    "    plt.ylabel('Accuracy score')\n",
    "    plt.xlabel('Subsamples')\n",
    "\n",
    "       \n",
    "    plt.legend()\n",
    "    plt.show()    \n"
   ]
  },
  {
   "cell_type": "code",
   "execution_count": null,
   "metadata": {},
   "outputs": [],
   "source": [
    "optimal_tree_depth(X_train,X_test,y_train,y_test)"
   ]
  },
  {
   "cell_type": "code",
   "execution_count": null,
   "metadata": {},
   "outputs": [],
   "source": [
    "optimal_tree_minsamples(X_train,X_test,y_train,y_test)"
   ]
  },
  {
   "cell_type": "code",
   "execution_count": null,
   "metadata": {},
   "outputs": [],
   "source": [
    "optimal_sample_leafs(X_train,X_test,y_train,y_test)"
   ]
  },
  {
   "cell_type": "code",
   "execution_count": null,
   "metadata": {},
   "outputs": [],
   "source": [
    "optimal_max_features(X_train,X_test,y_train,y_test)"
   ]
  },
  {
   "cell_type": "markdown",
   "metadata": {},
   "source": [
    "## XBoost"
   ]
  },
  {
   "cell_type": "code",
   "execution_count": null,
   "metadata": {},
   "outputs": [],
   "source": [
    "def randomforest_train(X_train, X_test,y_train,y_test):\n",
    "    \n",
    "    from sklearn.metrics import accuracy_score\n",
    "    from sklearn.ensemble import RandomForestClassifier\n",
    "    \n",
    "    print('Applying Random Forest Classifier...')\n",
    "    \n",
    "    clf = RandomForestClassifier(criterion='entropy',max_depth = 5 , max_features=20, min_samples_leaf=0.35, min_samples_split=0.6)\n",
    "    clf.fit(X_train, y_train)\n",
    "    y_train_pred = clf.predict(X_train)\n",
    "    y_test_pred = clf.predict(X_test)\n",
    "    print(performance(y_train,y_train_pred))\n",
    "    \n",
    "    training_accuracy = accuracy_score(y_train, training_preds)\n",
    "    testing_accuracy = accuracy_score(y_test, y_test_pred)\n",
    "    \n",
    "    #feature_importances = clf.feature_importances_\n",
    "    print('')\n",
    "    print('Training Accuracy: ', trainining_accuracy)\n",
    "    print('Testin Accuracy: ', testing_accuracy)\n",
    "    print('')\n",
    "    \n",
    "    #print(feature_importances)\n",
    "    \n",
    "    return clf"
   ]
  },
  {
   "cell_type": "code",
   "execution_count": null,
   "metadata": {},
   "outputs": [],
   "source": [
    "def xgboost_train(X_train, X_test, y_train, y_test):\n",
    "\n",
    "    import xgboost as xgb\n",
    "    from sklearn.metrics import accuracy_score\n",
    "    \n",
    "    print('Applying XGBoost Classifier...')\n",
    "\n",
    "    clf = xgb.XGBClassifier(learning_rate=0.07, max_depth=2, max_features =50, min_samples_leaf=0.35, min_samples_split=0.6, subsample=0.6, n_estimators=100)\n",
    "    clf.fit(X_train, y_train)\n",
    "    y_train_pred = clf.predict(X_train)\n",
    "    y_test_pred = clf.predict(X_test)\n",
    "    \n",
    "    training_accuracy = accuracy_score(y_train, y_train_pred)\n",
    "    testing_accuracy = accuracy_score(y_test, y_test_pred)\n",
    "    print(' ')\n",
    "    print(\"Training Accuracy: {:.4}%\".format(training_accuracy * 100))\n",
    "    print(\"Testing Accuracy: {:.4}%\".format(testing_accuracy * 100))\n",
    "    print(' ')\n",
    "\n",
    "    \n",
    "    return clf\n",
    "   "
   ]
  },
  {
   "cell_type": "code",
   "execution_count": null,
   "metadata": {},
   "outputs": [],
   "source": [
    "param_grid = {\n",
    "    \"learning_rate\": [0.01],\n",
    "    'max_depth': [6],  # ,15,20,25\n",
    "    'min_child_weight': [1],\n",
    "    'subsample': [ 0.8],\n",
    "    'n_estimators': [250]\n",
    "}"
   ]
  },
  {
   "cell_type": "code",
   "execution_count": null,
   "metadata": {},
   "outputs": [],
   "source": [
    "def tune_clf(clf,param_grid,X_train,X_test,y_train,y_test):\n",
    "    \n",
    "    \n",
    "    from sklearn.metrics import accuracy_score\n",
    "    from sklearn.model_selection import GridSearchCV\n",
    "    \n",
    "    print('Tuning... ')\n",
    "   \n",
    "    grid_clf = GridSearchCV(clf, param_grid, scoring='accuracy', cv=None, n_jobs=1)\n",
    "    grid_clf.fit(X_train, y_train)\n",
    "\n",
    "    best_parameters = grid_clf.best_params_\n",
    "\n",
    "    print(\"Grid Search found the following optimal parameters: \")\n",
    "    for param_name in sorted(best_parameters.keys()):\n",
    "        print(\"%s: %r\" % (param_name, best_parameters[param_name]))\n",
    "\n",
    "    y_train_pred = grid_clf.predict(X_train)\n",
    "    y_test_pred = grid_clf.predict(X_test)\n",
    "    \n",
    "    training_accuracy = accuracy_score(y_train, y_train_pred)\n",
    "    testing_accuracy = accuracy_score(y_test, y_test_pred)\n",
    "    \n",
    "    print(\"Tuned Training Accuracy: {:.4}%\".format(training_accuracy * 100))\n",
    "    print(\"Tuned Testing Accuracy: {:.4}%\".format(testing_accuracy * 100))\n",
    "    print('')\n",
    "    return grid_clf\n"
   ]
  },
  {
   "cell_type": "code",
   "execution_count": null,
   "metadata": {},
   "outputs": [],
   "source": [
    "def generate_test_preds(clf,unlabeled_data_scaled,clf_description):\n",
    "    \n",
    "    print('Generating Test Predictions...')\n",
    "   \n",
    "    unlabeled_pred = clf.predict(unlabeled_data_scaled)\n",
    "    \n",
    "    submission = pd.DataFrame(data={'Id':unlabeled_data_scaled.index.astype('int')+1,'Cover_Type':unlabeled_pred.astype('int')})\n",
    "\n",
    "    # output\n",
    "    submission.to_csv('submission_clf'+ str(clf_description) + '.csv',index=False)\n",
    "    \n",
    "    print('Wrote file to local disk.')\n",
    "    return submission"
   ]
  },
  {
   "cell_type": "code",
   "execution_count": null,
   "metadata": {},
   "outputs": [],
   "source": [
    "optimal_n_estimators(X_train,X_test,y_train,y_test)"
   ]
  },
  {
   "cell_type": "code",
   "execution_count": null,
   "metadata": {},
   "outputs": [],
   "source": [
    "optimal_learning_rate(X_train,X_test,y_train,y_test)"
   ]
  },
  {
   "cell_type": "code",
   "execution_count": null,
   "metadata": {},
   "outputs": [],
   "source": [
    "optimal_subsample(X_train,X_test,y_train,y_test)"
   ]
  },
  {
   "cell_type": "markdown",
   "metadata": {},
   "source": [
    "### K Nearest Neighbors"
   ]
  },
  {
   "cell_type": "code",
   "execution_count": 32,
   "metadata": {},
   "outputs": [],
   "source": [
    "def find_best_k(X_train, y_train, min_k=1, max_k=25):\n",
    "    best_k = 0\n",
    "    best_score = 0.0\n",
    "    for k in range(min_k, max_k+1, 2):\n",
    "        knn = KNeighborsClassifier(n_neighbors=k)\n",
    "        knn.fit(X_train, y_train)\n",
    "        preds = knn.predict(X_train)\n",
    "        f1 = accuracy_score(y_train, preds)\n",
    "        if f1 > best_score:\n",
    "            best_k = k\n",
    "            best_score = f1\n",
    "    \n",
    "    print(\"Best Value for k: {}\".format(best_k))\n",
    "    print(\"Accuracy Score: {}\".format(best_score))"
   ]
  },
  {
   "cell_type": "code",
   "execution_count": 33,
   "metadata": {},
   "outputs": [
    {
     "ename": "NameError",
     "evalue": "name 'X_train' is not defined",
     "output_type": "error",
     "traceback": [
      "\u001b[0;31m---------------------------------------------------------------------------\u001b[0m",
      "\u001b[0;31mNameError\u001b[0m                                 Traceback (most recent call last)",
      "\u001b[0;32m<ipython-input-33-4d9888f367f5>\u001b[0m in \u001b[0;36m<module>\u001b[0;34m()\u001b[0m\n\u001b[0;32m----> 1\u001b[0;31m \u001b[0mfind_best_k\u001b[0m\u001b[0;34m(\u001b[0m\u001b[0mX_train\u001b[0m\u001b[0;34m,\u001b[0m\u001b[0my_train\u001b[0m\u001b[0;34m)\u001b[0m\u001b[0;34m\u001b[0m\u001b[0m\n\u001b[0m",
      "\u001b[0;31mNameError\u001b[0m: name 'X_train' is not defined"
     ]
    }
   ],
   "source": [
    "find_best_k(X_train,y_train)"
   ]
  },
  {
   "cell_type": "code",
   "execution_count": null,
   "metadata": {},
   "outputs": [],
   "source": [
    "kclf = KNeighborsClassifier()\n",
    "kclf.fit(X_train,y_train)\n",
    "y_train_pred = kclf.predict(X_train)\n",
    "print(performance(y_train,y_train_pred))"
   ]
  },
  {
   "cell_type": "code",
   "execution_count": null,
   "metadata": {},
   "outputs": [],
   "source": [
    "\n",
    "X_test = pd.DataFrame(scaler.transform(test))\n",
    "X_test.columns = test.columns\n",
    "\n",
    "y_test_pred = kclf.predict(X_test)\n",
    "\n",
    "data = [test.index, y_test_pred]\n",
    "\n",
    "knearest_submission = pd.DataFrame(data={'Id':test.index.astype('int'),'Cover_Type':y_test_pred.astype('int')})\n",
    "k_nearest_submission.to_csv('k_nearest.csv',index=False)\n",
    "knearest_submission.head()"
   ]
  },
  {
   "cell_type": "markdown",
   "metadata": {},
   "source": [
    "### Credits"
   ]
  },
  {
   "cell_type": "markdown",
   "metadata": {},
   "source": [
    "This dataset was provided by Jock A. Blackard and Colorado State University.\n",
    "Bache, K. & Lichman, M. (2013). UCI Machine Learning Repository. Irvine, CA: University of California, School of Information and Computer Science"
   ]
  },
  {
   "cell_type": "markdown",
   "metadata": {},
   "source": [
    "Soil Survey Manual\n",
    "By United States. Bureau of Plant Industry, Soils, and Agricultural Engineering\n",
    "\n",
    "https://books.google.com/books?id=D925O98O74kC&pg=PR9&lpg=PR9&dq=%22rubbly+soil%22&source=bl&ots=clf7_NJA4m&sig=ACfU3U3B-hsmrfRTu1KbAhkXkQfNWYeUkA&hl=en&sa=X&ved=2ahUKEwjD0_eC-_3kAhVeJDQIHeU2C_MQ6AEwDnoECAYQAQ#v=onepage&q=%22rubbly%20soil%22&f=false"
   ]
  }
 ],
 "metadata": {
  "kernelspec": {
   "display_name": "Python 3",
   "language": "python",
   "name": "python3"
  },
  "language_info": {
   "codemirror_mode": {
    "name": "ipython",
    "version": 3
   },
   "file_extension": ".py",
   "mimetype": "text/x-python",
   "name": "python",
   "nbconvert_exporter": "python",
   "pygments_lexer": "ipython3",
   "version": "3.6.6"
  }
 },
 "nbformat": 4,
 "nbformat_minor": 2
}
